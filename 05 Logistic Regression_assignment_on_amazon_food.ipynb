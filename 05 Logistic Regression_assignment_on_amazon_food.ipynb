{
 "cells": [
  {
   "cell_type": "markdown",
   "metadata": {},
   "source": [
    "# Amazon Fine Food Reviews Analysis\n",
    "\n",
    "\n",
    "Data Source: https://www.kaggle.com/snap/amazon-fine-food-reviews <br>\n",
    "\n",
    "EDA: https://nycdatascience.com/blog/student-works/amazon-fine-foods-visualization/\n",
    "\n",
    "\n",
    "The Amazon Fine Food Reviews dataset consists of reviews of fine foods from Amazon.<br>\n",
    "\n",
    "Number of reviews: 568,454<br>\n",
    "Number of users: 256,059<br>\n",
    "Number of products: 74,258<br>\n",
    "Timespan: Oct 1999 - Oct 2012<br>\n",
    "Number of Attributes/Columns in data: 10 \n",
    "\n",
    "Attribute Information:\n",
    "\n",
    "1. Id\n",
    "2. ProductId - unique identifier for the product\n",
    "3. UserId - unqiue identifier for the user\n",
    "4. ProfileName\n",
    "5. HelpfulnessNumerator - number of users who found the review helpful\n",
    "6. HelpfulnessDenominator - number of users who indicated whether they found the review helpful or not\n",
    "7. Score - rating between 1 and 5\n",
    "8. Time - timestamp for the review\n",
    "9. Summary - brief summary of the review\n",
    "10. Text - text of the review\n",
    "\n",
    "\n",
    "#### Objective:\n",
    "Given a review, determine whether the review is positive (rating of 4 or 5) or negative (rating of 1 or 2).\n",
    "\n",
    "<br>\n",
    "[Q] How to determine if a review is positive or negative?<br>\n",
    "<br> \n",
    "[Ans] We could use Score/Rating. A rating of 4 or 5 can be cosnidered as a positive review. A rating of 1 or 2 can be considered as negative one. A review of rating 3 is considered nuetral and such reviews are ignored from our analysis. This is an approximate and proxy way of determining the polarity (positivity/negativity) of a review.\n",
    "\n",
    "\n"
   ]
  },
  {
   "cell_type": "markdown",
   "metadata": {},
   "source": [
    "# [1]. Reading Data"
   ]
  },
  {
   "cell_type": "markdown",
   "metadata": {},
   "source": [
    "## [1.1] Loading the data\n",
    "\n",
    "The dataset is available in two forms\n",
    "1. .csv file\n",
    "2. SQLite Database\n",
    "\n",
    "In order to load the data, We have used the SQLITE dataset as it is easier to query the data and visualise the data efficiently.\n",
    "<br> \n",
    "\n",
    "Here as we only want to get the global sentiment of the recommendations (positive or negative), we will purposefully ignore all Scores equal to 3. If the score is above 3, then the recommendation wil be set to \"positive\". Otherwise, it will be set to \"negative\"."
   ]
  },
  {
   "cell_type": "code",
   "execution_count": 10,
   "metadata": {},
   "outputs": [],
   "source": [
    "import sqlite3\n",
    "import pandas as pd\n",
    "import numpy as np\n",
    "import nltk\n",
    "import string\n",
    "import seaborn as sns\n",
    "from sklearn.feature_extraction.text import TfidfVectorizer\n",
    "from sklearn.feature_extraction.text import CountVectorizer\n",
    "import matplotlib.pyplot as plt\n",
    "from sklearn.linear_model import LogisticRegression\n",
    "\n",
    "from sklearn.metrics import accuracy_score\n",
    "from sklearn.model_selection import train_test_split\n",
    "#from sklearn.model_selection import cross_val_score\n",
    "from sklearn.cross_validation import cross_val_score\n",
    "from collections import Counter\n",
    "from sklearn.metrics import accuracy_score\n",
    "from sklearn import model_selection\n",
    "from sklearn import cross_validation"
   ]
  },
  {
   "cell_type": "markdown",
   "metadata": {},
   "source": [
    "#  [2] Exploratory Data Analysis"
   ]
  },
  {
   "cell_type": "markdown",
   "metadata": {},
   "source": [
    "We already done EDA and prepossing of data and stored it in final.sqlite. This we will use it directly so now we don't need to do EDA and preprocessing. In Preprocessing section, we are going to use our saved final.sqlite directly."
   ]
  },
  {
   "cell_type": "markdown",
   "metadata": {},
   "source": [
    "#  [3] Preprocessing"
   ]
  },
  {
   "cell_type": "markdown",
   "metadata": {},
   "source": [
    "## [3.1].  Preprocessing Review Text\n",
    "\n",
    "Now that we have finished deduplication our data requires some preprocessing before we go on further with analysis and making the prediction model.\n",
    "\n",
    "Hence in the Preprocessing phase we do the following in the order below:-\n",
    "\n",
    "1. Begin by removing the html tags\n",
    "2. Remove any punctuations or limited set of special characters like , or . or # etc.\n",
    "3. Check if the word is made up of english letters and is not alpha-numeric\n",
    "4. Check to see if the length of the word is greater than 2 (as it was researched that there is no adjective in 2-letters)\n",
    "5. Convert the word to lowercase\n",
    "6. Remove Stopwords\n",
    "7. Finally Snowball Stemming the word (it was obsereved to be better than Porter Stemming)<br>\n",
    "\n",
    "After which we collect the words used to describe positive and negative reviews"
   ]
  },
  {
   "cell_type": "code",
   "execution_count": 11,
   "metadata": {},
   "outputs": [],
   "source": [
    "#loading preprocessed data which was stored in final dataset\n",
    "con = sqlite3.connect('final.sqlite') "
   ]
  },
  {
   "cell_type": "code",
   "execution_count": 12,
   "metadata": {},
   "outputs": [
    {
     "data": {
      "text/plain": [
       "(364171, 12)"
      ]
     },
     "execution_count": 12,
     "metadata": {},
     "output_type": "execute_result"
    }
   ],
   "source": [
    "cleaned_data = pd.read_sql_query(\"select * from Reviews\", con)\n",
    "cleaned_data.shape"
   ]
  },
  {
   "cell_type": "code",
   "execution_count": 13,
   "metadata": {},
   "outputs": [
    {
     "data": {
      "text/html": [
       "<div>\n",
       "<style scoped>\n",
       "    .dataframe tbody tr th:only-of-type {\n",
       "        vertical-align: middle;\n",
       "    }\n",
       "\n",
       "    .dataframe tbody tr th {\n",
       "        vertical-align: top;\n",
       "    }\n",
       "\n",
       "    .dataframe thead th {\n",
       "        text-align: right;\n",
       "    }\n",
       "</style>\n",
       "<table border=\"1\" class=\"dataframe\">\n",
       "  <thead>\n",
       "    <tr style=\"text-align: right;\">\n",
       "      <th></th>\n",
       "      <th>index</th>\n",
       "      <th>Id</th>\n",
       "      <th>ProductId</th>\n",
       "      <th>UserId</th>\n",
       "      <th>ProfileName</th>\n",
       "      <th>HelpfulnessNumerator</th>\n",
       "      <th>HelpfulnessDenominator</th>\n",
       "      <th>Score</th>\n",
       "      <th>Time</th>\n",
       "      <th>Summary</th>\n",
       "      <th>Text</th>\n",
       "      <th>CleanedText</th>\n",
       "    </tr>\n",
       "  </thead>\n",
       "  <tbody>\n",
       "    <tr>\n",
       "      <th>0</th>\n",
       "      <td>138706</td>\n",
       "      <td>150524</td>\n",
       "      <td>0006641040</td>\n",
       "      <td>ACITT7DI6IDDL</td>\n",
       "      <td>shari zychinski</td>\n",
       "      <td>0</td>\n",
       "      <td>0</td>\n",
       "      <td>1</td>\n",
       "      <td>939340800</td>\n",
       "      <td>EVERY book is educational</td>\n",
       "      <td>this witty little book makes my son laugh at l...</td>\n",
       "      <td>b'witti littl book make son laugh loud recit c...</td>\n",
       "    </tr>\n",
       "    <tr>\n",
       "      <th>1</th>\n",
       "      <td>138688</td>\n",
       "      <td>150506</td>\n",
       "      <td>0006641040</td>\n",
       "      <td>A2IW4PEEKO2R0U</td>\n",
       "      <td>Tracy</td>\n",
       "      <td>1</td>\n",
       "      <td>1</td>\n",
       "      <td>1</td>\n",
       "      <td>1194739200</td>\n",
       "      <td>Love the book, miss the hard cover version</td>\n",
       "      <td>I grew up reading these Sendak books, and watc...</td>\n",
       "      <td>b'grew read sendak book watch realli rosi movi...</td>\n",
       "    </tr>\n",
       "    <tr>\n",
       "      <th>2</th>\n",
       "      <td>138689</td>\n",
       "      <td>150507</td>\n",
       "      <td>0006641040</td>\n",
       "      <td>A1S4A3IQ2MU7V4</td>\n",
       "      <td>sally sue \"sally sue\"</td>\n",
       "      <td>1</td>\n",
       "      <td>1</td>\n",
       "      <td>1</td>\n",
       "      <td>1191456000</td>\n",
       "      <td>chicken soup with rice months</td>\n",
       "      <td>This is a fun way for children to learn their ...</td>\n",
       "      <td>b'fun way children learn month year learn poem...</td>\n",
       "    </tr>\n",
       "  </tbody>\n",
       "</table>\n",
       "</div>"
      ],
      "text/plain": [
       "    index      Id   ProductId          UserId            ProfileName  \\\n",
       "0  138706  150524  0006641040   ACITT7DI6IDDL        shari zychinski   \n",
       "1  138688  150506  0006641040  A2IW4PEEKO2R0U                  Tracy   \n",
       "2  138689  150507  0006641040  A1S4A3IQ2MU7V4  sally sue \"sally sue\"   \n",
       "\n",
       "   HelpfulnessNumerator  HelpfulnessDenominator  Score        Time  \\\n",
       "0                     0                       0      1   939340800   \n",
       "1                     1                       1      1  1194739200   \n",
       "2                     1                       1      1  1191456000   \n",
       "\n",
       "                                      Summary  \\\n",
       "0                   EVERY book is educational   \n",
       "1  Love the book, miss the hard cover version   \n",
       "2               chicken soup with rice months   \n",
       "\n",
       "                                                Text  \\\n",
       "0  this witty little book makes my son laugh at l...   \n",
       "1  I grew up reading these Sendak books, and watc...   \n",
       "2  This is a fun way for children to learn their ...   \n",
       "\n",
       "                                         CleanedText  \n",
       "0  b'witti littl book make son laugh loud recit c...  \n",
       "1  b'grew read sendak book watch realli rosi movi...  \n",
       "2  b'fun way children learn month year learn poem...  "
      ]
     },
     "execution_count": 13,
     "metadata": {},
     "output_type": "execute_result"
    }
   ],
   "source": [
    "cleaned_data.head(3)"
   ]
  },
  {
   "cell_type": "code",
   "execution_count": 14,
   "metadata": {},
   "outputs": [
    {
     "data": {
      "text/plain": [
       "1    307061\n",
       "0     57110\n",
       "Name: Score, dtype: int64"
      ]
     },
     "execution_count": 14,
     "metadata": {},
     "output_type": "execute_result"
    }
   ],
   "source": [
    "cleaned_data['Score'].value_counts()"
   ]
  },
  {
   "cell_type": "code",
   "execution_count": 15,
   "metadata": {},
   "outputs": [
    {
     "data": {
      "text/plain": [
       "(100000, 12)"
      ]
     },
     "execution_count": 15,
     "metadata": {},
     "output_type": "execute_result"
    }
   ],
   "source": [
    "# To randomly sample 100k points from both class\n",
    "random_sample_data = cleaned_data.sample(n=100000) \n",
    "random_sample_data.shape"
   ]
  },
  {
   "cell_type": "code",
   "execution_count": 16,
   "metadata": {},
   "outputs": [
    {
     "data": {
      "text/html": [
       "<div>\n",
       "<style scoped>\n",
       "    .dataframe tbody tr th:only-of-type {\n",
       "        vertical-align: middle;\n",
       "    }\n",
       "\n",
       "    .dataframe tbody tr th {\n",
       "        vertical-align: top;\n",
       "    }\n",
       "\n",
       "    .dataframe thead th {\n",
       "        text-align: right;\n",
       "    }\n",
       "</style>\n",
       "<table border=\"1\" class=\"dataframe\">\n",
       "  <thead>\n",
       "    <tr style=\"text-align: right;\">\n",
       "      <th></th>\n",
       "      <th>index</th>\n",
       "      <th>Id</th>\n",
       "      <th>ProductId</th>\n",
       "      <th>UserId</th>\n",
       "      <th>ProfileName</th>\n",
       "      <th>HelpfulnessNumerator</th>\n",
       "      <th>HelpfulnessDenominator</th>\n",
       "      <th>Score</th>\n",
       "      <th>Time</th>\n",
       "      <th>Summary</th>\n",
       "      <th>Text</th>\n",
       "      <th>CleanedText</th>\n",
       "    </tr>\n",
       "  </thead>\n",
       "  <tbody>\n",
       "    <tr>\n",
       "      <th>0</th>\n",
       "      <td>138706</td>\n",
       "      <td>150524</td>\n",
       "      <td>0006641040</td>\n",
       "      <td>ACITT7DI6IDDL</td>\n",
       "      <td>shari zychinski</td>\n",
       "      <td>0</td>\n",
       "      <td>0</td>\n",
       "      <td>1</td>\n",
       "      <td>939340800</td>\n",
       "      <td>EVERY book is educational</td>\n",
       "      <td>this witty little book makes my son laugh at l...</td>\n",
       "      <td>b'witti littl book make son laugh loud recit c...</td>\n",
       "    </tr>\n",
       "    <tr>\n",
       "      <th>424</th>\n",
       "      <td>417839</td>\n",
       "      <td>451856</td>\n",
       "      <td>B00004CXX9</td>\n",
       "      <td>AIUWLEQ1ADEG5</td>\n",
       "      <td>Elizabeth Medina</td>\n",
       "      <td>0</td>\n",
       "      <td>0</td>\n",
       "      <td>1</td>\n",
       "      <td>944092800</td>\n",
       "      <td>Entertainingl Funny!</td>\n",
       "      <td>Beetlejuice is a well written movie ..... ever...</td>\n",
       "      <td>b'beetlejuic well written movi everyth excel a...</td>\n",
       "    </tr>\n",
       "    <tr>\n",
       "      <th>245</th>\n",
       "      <td>346116</td>\n",
       "      <td>374422</td>\n",
       "      <td>B00004CI84</td>\n",
       "      <td>A1048CYU0OV4O8</td>\n",
       "      <td>Judy L. Eans</td>\n",
       "      <td>2</td>\n",
       "      <td>2</td>\n",
       "      <td>1</td>\n",
       "      <td>947376000</td>\n",
       "      <td>GREAT</td>\n",
       "      <td>THIS IS ONE MOVIE THAT SHOULD BE IN YOUR MOVIE...</td>\n",
       "      <td>b'one movi movi collect fill comedi action wha...</td>\n",
       "    </tr>\n",
       "  </tbody>\n",
       "</table>\n",
       "</div>"
      ],
      "text/plain": [
       "      index      Id   ProductId          UserId       ProfileName  \\\n",
       "0    138706  150524  0006641040   ACITT7DI6IDDL   shari zychinski   \n",
       "424  417839  451856  B00004CXX9   AIUWLEQ1ADEG5  Elizabeth Medina   \n",
       "245  346116  374422  B00004CI84  A1048CYU0OV4O8      Judy L. Eans   \n",
       "\n",
       "     HelpfulnessNumerator  HelpfulnessDenominator  Score       Time  \\\n",
       "0                       0                       0      1  939340800   \n",
       "424                     0                       0      1  944092800   \n",
       "245                     2                       2      1  947376000   \n",
       "\n",
       "                       Summary  \\\n",
       "0    EVERY book is educational   \n",
       "424       Entertainingl Funny!   \n",
       "245                      GREAT   \n",
       "\n",
       "                                                  Text  \\\n",
       "0    this witty little book makes my son laugh at l...   \n",
       "424  Beetlejuice is a well written movie ..... ever...   \n",
       "245  THIS IS ONE MOVIE THAT SHOULD BE IN YOUR MOVIE...   \n",
       "\n",
       "                                           CleanedText  \n",
       "0    b'witti littl book make son laugh loud recit c...  \n",
       "424  b'beetlejuic well written movi everyth excel a...  \n",
       "245  b'one movi movi collect fill comedi action wha...  "
      ]
     },
     "execution_count": 16,
     "metadata": {},
     "output_type": "execute_result"
    }
   ],
   "source": [
    "# Sort data based on time\n",
    "final_sorted_time=random_sample_data.sort_values('Time',ascending=True,axis=0)\n",
    "final_sorted_time.head(3)"
   ]
  },
  {
   "cell_type": "code",
   "execution_count": 17,
   "metadata": {},
   "outputs": [
    {
     "name": "stdout",
     "output_type": "stream",
     "text": [
      "(49000,)\n",
      "(21000,)\n",
      "(30000,)\n"
     ]
    }
   ],
   "source": [
    "#data splitting\n",
    "y_train=final_sorted_time['Score'][0:49000]\n",
    "y_cv=final_sorted_time['Score'][49000:70000]\n",
    "y_test=final_sorted_time['Score'][70000:100000]\n",
    "print(y_train.shape)\n",
    "print(y_cv.shape)\n",
    "print(y_test.shape)"
   ]
  },
  {
   "cell_type": "code",
   "execution_count": 18,
   "metadata": {},
   "outputs": [
    {
     "name": "stdout",
     "output_type": "stream",
     "text": [
      "(49000,)\n",
      "(21000,)\n",
      "(30000,)\n"
     ]
    }
   ],
   "source": [
    "train_data=final_sorted_time['CleanedText'][0:49000]\n",
    "cv_data=final_sorted_time['CleanedText'][49000:70000]\n",
    "test_data=final_sorted_time['CleanedText'][70000:100000]\n",
    "print(train_data.shape)\n",
    "print(cv_data.shape)\n",
    "print(y_test.shape)"
   ]
  },
  {
   "cell_type": "markdown",
   "metadata": {},
   "source": [
    "# [4] Featurization"
   ]
  },
  {
   "cell_type": "markdown",
   "metadata": {},
   "source": [
    "## [4.1] BAG OF WORDS"
   ]
  },
  {
   "cell_type": "code",
   "execution_count": 19,
   "metadata": {},
   "outputs": [],
   "source": [
    "count_vector = CountVectorizer()\n",
    "bow_train = count_vector.fit_transform(train_data)\n",
    "bow_cv  = count_vector.transform(cv_data)\n",
    "bow_test= count_vector.transform(test_data)"
   ]
  },
  {
   "cell_type": "code",
   "execution_count": 20,
   "metadata": {},
   "outputs": [
    {
     "name": "stdout",
     "output_type": "stream",
     "text": [
      "(49000, 27148)\n",
      "(21000, 27148)\n",
      "(30000, 27148)\n"
     ]
    }
   ],
   "source": [
    "print(bow_train.shape)\n",
    "print(bow_cv.shape)\n",
    "print(bow_test.shape)"
   ]
  },
  {
   "cell_type": "code",
   "execution_count": 21,
   "metadata": {},
   "outputs": [],
   "source": [
    "np.save(\"bow_train\", bow_train)\n",
    "np.save(\"bow_cv\", bow_cv)\n",
    "np.save(\"bow_test\", bow_test)"
   ]
  },
  {
   "cell_type": "markdown",
   "metadata": {},
   "source": [
    "## [4.2] TF-IDF"
   ]
  },
  {
   "cell_type": "code",
   "execution_count": 22,
   "metadata": {},
   "outputs": [],
   "source": [
    "tfidf_vec = TfidfVectorizer(ngram_range=(1,2), min_df=10)\n",
    "tf_train = tfidf_vec.fit_transform(train_data)\n",
    "tf_cv  = tfidf_vec.transform(cv_data)\n",
    "tf_test = tfidf_vec.transform(test_data)"
   ]
  },
  {
   "cell_type": "code",
   "execution_count": 23,
   "metadata": {},
   "outputs": [],
   "source": [
    "np.save(\"tf_train\", tf_train)\n",
    "np.save(\"tf_cv\", tf_cv)\n",
    "np.save(\"tf_test\", tf_test)"
   ]
  },
  {
   "cell_type": "markdown",
   "metadata": {},
   "source": [
    "## [4.3] Word2Vec"
   ]
  },
  {
   "cell_type": "code",
   "execution_count": 24,
   "metadata": {},
   "outputs": [],
   "source": [
    "# Train your own Word2Vec model using your own text corpus\n",
    "list_of_sent_train = []\n",
    "for i in train_data:\n",
    "    sent = []\n",
    "    for word in i.split():\n",
    "        sent.append(word.decode('utf-8'))\n",
    "    list_of_sent_train.append(sent)"
   ]
  },
  {
   "cell_type": "code",
   "execution_count": 25,
   "metadata": {},
   "outputs": [],
   "source": [
    "list_of_sent_cv = []\n",
    "for i in cv_data:\n",
    "    sent = []\n",
    "    for word in i.split():\n",
    "        sent.append(word.decode('utf-8'))\n",
    "    list_of_sent_cv.append(sent)"
   ]
  },
  {
   "cell_type": "code",
   "execution_count": 26,
   "metadata": {},
   "outputs": [],
   "source": [
    "list_of_sent_test = []\n",
    "for i in test_data:\n",
    "    sent = []\n",
    "    for word in i.split():\n",
    "        sent.append(word.decode('utf-8'))\n",
    "    list_of_sent_test.append(sent)"
   ]
  },
  {
   "cell_type": "code",
   "execution_count": 27,
   "metadata": {},
   "outputs": [
    {
     "name": "stdout",
     "output_type": "stream",
     "text": [
      "49000\n",
      "21000\n"
     ]
    },
    {
     "data": {
      "text/plain": [
       "30000"
      ]
     },
     "execution_count": 27,
     "metadata": {},
     "output_type": "execute_result"
    }
   ],
   "source": [
    "print(len(list_of_sent_train))\n",
    "print(len(list_of_sent_cv))\n",
    "len(list_of_sent_test)"
   ]
  },
  {
   "cell_type": "code",
   "execution_count": 28,
   "metadata": {},
   "outputs": [
    {
     "name": "stderr",
     "output_type": "stream",
     "text": [
      "C:\\Users\\hp\\Anaconda3\\lib\\site-packages\\gensim\\utils.py:1212: UserWarning: detected Windows; aliasing chunkize to chunkize_serial\n",
      "  warnings.warn(\"detected Windows; aliasing chunkize to chunkize_serial\")\n"
     ]
    }
   ],
   "source": [
    "from gensim.models import Word2Vec\n",
    "w2v_model = Word2Vec(list_of_sent_train,min_count = 5,size = 50,workers = 4)"
   ]
  },
  {
   "cell_type": "code",
   "execution_count": 29,
   "metadata": {},
   "outputs": [
    {
     "name": "stdout",
     "output_type": "stream",
     "text": [
      "number of words that occured minimum 5 times  9338\n",
      "sample words  ['littl', 'book', 'make', 'son', 'laugh', 'loud', 'recit', 'car', 'drive', 'along', 'alway', 'sing', 'refrain', 'hes', 'learn', 'india', 'droop', 'love', 'new', 'word', 'introduc', 'silli', 'classic', 'will', 'bet', 'still', 'abl', 'memori', 'colleg', 'beetlejuic', 'well', 'written', 'movi', 'everyth', 'excel', 'act', 'special', 'effect', 'delight', 'chose', 'view', 'one', 'collect', 'fill', 'comedi', 'action', 'whatev', 'els', 'want', 'call']\n"
     ]
    }
   ],
   "source": [
    "w2v_words = list(w2v_model.wv.vocab)\n",
    "print(\"number of words that occured minimum 5 times \",len(w2v_words))\n",
    "print(\"sample words \", w2v_words[0:50])"
   ]
  },
  {
   "cell_type": "markdown",
   "metadata": {},
   "source": [
    "## [4.3.1] Converting text into vectors using Avg W2V, TFIDF-W2V"
   ]
  },
  {
   "cell_type": "markdown",
   "metadata": {},
   "source": [
    "#### [4.3.1.1] Avg W2v"
   ]
  },
  {
   "cell_type": "code",
   "execution_count": 30,
   "metadata": {},
   "outputs": [
    {
     "name": "stdout",
     "output_type": "stream",
     "text": [
      "49000\n"
     ]
    }
   ],
   "source": [
    "sent_vectors_train = []\n",
    "for sent in list_of_sent_train:\n",
    "    sent_vec = np.zeros(50)\n",
    "    cnt_word = 0\n",
    "    for word in sent:\n",
    "        try:\n",
    "            vec = w2v_model.wv[word]\n",
    "            sent_vec += vec\n",
    "            cnt_word += 1\n",
    "        except:\n",
    "            pass\n",
    "    if cnt_word!=0:\n",
    "        sent_vec /= cnt_word\n",
    "    \n",
    "    sent_vectors_train.append(sent_vec)\n",
    "print(len(sent_vectors_train))"
   ]
  },
  {
   "cell_type": "code",
   "execution_count": 31,
   "metadata": {},
   "outputs": [
    {
     "name": "stdout",
     "output_type": "stream",
     "text": [
      "21000\n"
     ]
    }
   ],
   "source": [
    "sent_vectors_cv = []\n",
    "for sent in list_of_sent_cv:\n",
    "    sent_vec = np.zeros(50)\n",
    "    cnt_word = 0\n",
    "    for word in sent:\n",
    "        try:\n",
    "            vec = w2v_model.wv[word]\n",
    "            sent_vec += vec\n",
    "            cnt_word += 1\n",
    "        except:\n",
    "            pass\n",
    "    if cnt_word!=0:\n",
    "        sent_vec /= cnt_word\n",
    "    sent_vectors_cv.append(sent_vec)\n",
    "print(len(sent_vectors_cv))"
   ]
  },
  {
   "cell_type": "code",
   "execution_count": 32,
   "metadata": {},
   "outputs": [
    {
     "name": "stdout",
     "output_type": "stream",
     "text": [
      "30000\n"
     ]
    }
   ],
   "source": [
    "sent_vectors_test = []\n",
    "for sent in list_of_sent_test:\n",
    "    sent_vec = np.zeros(50)\n",
    "    cnt_word = 0\n",
    "    for word in sent:\n",
    "        try:\n",
    "            vec = w2v_model.wv[word]\n",
    "            sent_vec += vec\n",
    "            cnt_word += 1\n",
    "        except:\n",
    "            pass\n",
    "    if cnt_word!=0:\n",
    "        sent_vec /= cnt_word\n",
    "    sent_vectors_test.append(sent_vec)\n",
    "print(len(sent_vectors_test))"
   ]
  },
  {
   "cell_type": "code",
   "execution_count": 33,
   "metadata": {},
   "outputs": [],
   "source": [
    "avgw2v_train= np.array(sent_vectors_train)\n",
    "avgw2v_cv= np.array(sent_vectors_cv)\n",
    "avgw2v_test= np.array(sent_vectors_test)"
   ]
  },
  {
   "cell_type": "code",
   "execution_count": 35,
   "metadata": {},
   "outputs": [],
   "source": [
    "np.save(\"avgw2v_train\", avgw2v_train)\n",
    "np.save(\"avgw2v_cv\", avgw2v_cv)\n",
    "np.save(\"avgw2v_test\", avgw2v_test)"
   ]
  },
  {
   "cell_type": "markdown",
   "metadata": {},
   "source": [
    "#### [4.3.1.2] TFIDF weighted W2v"
   ]
  },
  {
   "cell_type": "code",
   "execution_count": 36,
   "metadata": {},
   "outputs": [],
   "source": [
    "tfidf_vector = TfidfVectorizer()\n",
    "tfidf_train = tfidf_vector.fit_transform(train_data)\n",
    "tf_idf_feat = tfidf_vector.get_feature_names()\n",
    "tfidf_sent_vec_train = []\n",
    "row = 0\n",
    "for sent in list_of_sent_train:\n",
    "    sent_vec = np.zeros(50)\n",
    "    weight_sum = 0\n",
    "    for word in sent:\n",
    "        try:\n",
    "            vec = w2v_model.wv[word]\n",
    "            tfidf = tf_train[row,tf_idf_feat.index(word)]\n",
    "            sent_vec += (vec*tfidf)\n",
    "            weight_sum += tfidf\n",
    "        except:\n",
    "            pass\n",
    "    if weight_sum !=0:\n",
    "        sent_vec/= weight_sum\n",
    "    \n",
    "    tfidf_sent_vec_train.append(sent_vec)\n",
    "    row += 1"
   ]
  },
  {
   "cell_type": "code",
   "execution_count": 37,
   "metadata": {},
   "outputs": [],
   "source": [
    "tfidf_sent_vec_cv = []\n",
    "row = 0\n",
    "for sent in list_of_sent_cv:\n",
    "    sent_vec = np.zeros(50)\n",
    "    weight_sum = 0\n",
    "    for word in sent:\n",
    "        try:\n",
    "            vec = w2v_model.wv[word]\n",
    "            tfidf = tf_cv[row,tf_idf_feat.index(word)]\n",
    "            sent_vec += (vec*tfidf)\n",
    "            weight_sum += tfidf\n",
    "        except:\n",
    "            pass\n",
    "    if weight_sum !=0:\n",
    "        sent_vec/= weight_sum\n",
    "    tfidf_sent_vec_cv.append(sent_vec)\n",
    "    row += 1"
   ]
  },
  {
   "cell_type": "code",
   "execution_count": 38,
   "metadata": {},
   "outputs": [],
   "source": [
    "tf_idf_feat = tfidf_vec.get_feature_names()\n",
    "tfidf_sent_vec_test = []\n",
    "row = 0\n",
    "for sent in list_of_sent_test:\n",
    "    sent_vec = np.zeros(50)\n",
    "    weight_sum = 0\n",
    "    for word in sent:\n",
    "        try:\n",
    "            vec = w2v_model.wv[word]\n",
    "            tfidf = tf_test[row,tf_idf_feat.index(word)]\n",
    "            sent_vec += (vec*tfidf)\n",
    "            weight_sum += tfidf\n",
    "        except:\n",
    "            pass\n",
    "    if weight_sum !=0:\n",
    "        sent_vec/= weight_sum\n",
    "    tfidf_sent_vec_test.append(sent_vec)\n",
    "    row += 1"
   ]
  },
  {
   "cell_type": "code",
   "execution_count": 39,
   "metadata": {},
   "outputs": [],
   "source": [
    "tfw2v_train= np.array(tfidf_sent_vec_train)\n",
    "tfw2v_cv= np.array(tfidf_sent_vec_cv)\n",
    "tfw2v_test= np.array(tfidf_sent_vec_test)"
   ]
  },
  {
   "cell_type": "code",
   "execution_count": 40,
   "metadata": {},
   "outputs": [],
   "source": [
    "np.save(\"tfw2v_train\", tfw2v_train)\n",
    "np.save(\"tfw2v_cv\", tfw2v_cv)\n",
    "np.save(\"tfw2v_test\", tfw2v_test)"
   ]
  },
  {
   "cell_type": "markdown",
   "metadata": {},
   "source": [
    "# [5] Assignment 5: Apply Logistic Regression"
   ]
  },
  {
   "cell_type": "markdown",
   "metadata": {},
   "source": [
    "<ol>\n",
    "    <li><strong>Apply Logistic Regression on these feature sets</strong>\n",
    "        <ul>\n",
    "            <li><font color='red'>SET 1:</font>Review text, preprocessed one converted into vectors using (BOW)</li>\n",
    "            <li><font color='red'>SET 2:</font>Review text, preprocessed one converted into vectors using (TFIDF)</li>\n",
    "            <li><font color='red'>SET 3:</font>Review text, preprocessed one converted into vectors using (AVG W2v)</li>\n",
    "            <li><font color='red'>SET 4:</font>Review text, preprocessed one converted into vectors using (TFIDF W2v)</li>\n",
    "        </ul>\n",
    "    </li>\n",
    "    <br>\n",
    "    <li><strong>Hyper paramter tuning (find best hyper parameters corresponding the algorithm that you choose)</strong>\n",
    "        <ul>\n",
    "    <li>Find the best hyper parameter which will give the maximum <a href='https://www.appliedaicourse.com/course/applied-ai-course-online/lessons/receiver-operating-characteristic-curve-roc-curve-and-auc-1/'>AUC</a> value</li>\n",
    "    <li>Find the best hyper paramter using k-fold cross validation or simple cross validation data</li>\n",
    "    <li>Use gridsearch cv or randomsearch cv or you can also write your own for loops to do this task of hyperparameter tuning</li>          \n",
    "        </ul>\n",
    "    </li>\n",
    "    <br>\n",
    "    <li><strong>Pertubation Test</strong>\n",
    "        <ul>\n",
    "    <li>Get the weights W after fit your model with the data X.</li>\n",
    "    <li>Add a noise to the X (X' = X + e) and get the new data set X' (if X is a sparse\n",
    "matrix, X.data+=e)</li>\n",
    "    <li>Fit the model again on data X' and get the weights W'</li>\n",
    "    <li>Add a small eps value(to eliminate the divisible by zero error) to W and W’ i.e\n",
    "W=W+10^-6 and W’ = W’+10^-6</li>\n",
    "    <li>Now find the % change between W and W' (| (W-W') / (W) |)*100)</li>\n",
    "    <li>Calculate the 0th, 10th, 20th, 30th, ...100th percentiles, and observe any sudden rise in the values of percentage_change_vector</li>\n",
    "    <li> Ex: consider your 99th percentile is 1.3 and your 100th percentiles are 34.6, there is sudden rise from 1.3 to 34.6, now calculate the 99.1, 99.2, 99.3,..., 100th percentile values and get the proper value after which there is sudden rise the values, assume it is 2.5</li>\n",
    "            <li> Print the feature names whose % change is more than a threshold x(in our example it's 2.5)</li>\n",
    "        </ul>\n",
    "    </li>\n",
    "    <br>\n",
    "    <li><strong>Sparsity</strong>\n",
    "        <ul>\n",
    "    <li>Calculate sparsity on weight vector obtained after using L1 regularization</li>\n",
    "        </ul>\n",
    "    </li>\n",
    "    <br><font color='red'>NOTE: Do sparsity and multicollinearity for any one of the vectorizers. Bow or tf-idf is recommended.</font>\n",
    "    <br>\n",
    "    <br>\n",
    "    <li><strong>Feature importance</strong>\n",
    "        <ul>\n",
    "    <li>Get top 10 important features for both positive and negative classes separately.</li>\n",
    "        </ul>\n",
    "    </li>\n",
    "    <br>\n",
    "    <li><strong>Feature engineering</strong>\n",
    "        <ul>\n",
    "    <li>To increase the performance of your model, you can also experiment with with feature engineering like :</li>\n",
    "            <ul>\n",
    "            <li>Taking length of reviews as another feature.</li>\n",
    "            <li>Considering some features from review summary as well.</li>\n",
    "        </ul>\n",
    "        </ul>\n",
    "    </li>\n",
    "    <br>\n",
    "    <li><strong>Representation of results</strong>\n",
    "        <ul>\n",
    "    <li>You need to plot the performance of model both on train data and cross validation data for each hyper parameter, like shown in the figure.\n",
    "    <img src='train_cv_auc.JPG' width=300px></li>\n",
    "    <li>Once after you found the best hyper parameter, you need to train your model with it, and find the AUC on test data and plot the ROC curve on both train and test.\n",
    "    <img src='train_test_auc.JPG' width=300px></li>\n",
    "    <li>Along with plotting ROC curve, you need to print the <a href='https://www.appliedaicourse.com/course/applied-ai-course-online/lessons/confusion-matrix-tpr-fpr-fnr-tnr-1/'>confusion matrix</a> with predicted and original labels of test data points. Please visualize your confusion matrices using <a href='https://seaborn.pydata.org/generated/seaborn.heatmap.html'>seaborn heatmaps.\n",
    "    <img src='confusion_matrix.png' width=300px></li>\n",
    "        </ul>\n",
    "    </li>\n",
    "    <br>\n",
    "    <li><strong>Conclusion</strong>\n",
    "        <ul>\n",
    "    <li>You need to summarize the results at the end of the notebook, summarize it in the table format. To print out a table please refer to this prettytable library<a href='http://zetcode.com/python/prettytable/'>  link</a> \n",
    "        <img src='summary.JPG' width=400px>\n",
    "    </li>\n",
    "        </ul>\n",
    "</ol>"
   ]
  },
  {
   "cell_type": "markdown",
   "metadata": {},
   "source": [
    "<h4><font color='red'>Note: Data Leakage</font></h4>\n",
    "\n",
    "1. There will be an issue of data-leakage if you vectorize the entire data and then split it into train/cv/test.\n",
    "2. To avoid the issue of data-leakag, make sure to split your data first and then vectorize it. \n",
    "3. While vectorizing your data, apply the method fit_transform() on you train data, and apply the method transform() on cv/test data.\n",
    "4. For more details please go through this <a href='https://soundcloud.com/applied-ai-course/leakage-bow-and-tfidf'>link.</a>"
   ]
  },
  {
   "cell_type": "markdown",
   "metadata": {},
   "source": [
    "# Applying Logistic Regression"
   ]
  },
  {
   "cell_type": "markdown",
   "metadata": {},
   "source": [
    "## [5.1] Logistic Regression on BOW,<font color='red'> SET 1</font>"
   ]
  },
  {
   "cell_type": "markdown",
   "metadata": {},
   "source": [
    "### [5.1.1] Applying Logistic Regression with L1 regularization on BOW,<font color='red'> SET 1</font>"
   ]
  },
  {
   "cell_type": "code",
   "execution_count": 44,
   "metadata": {},
   "outputs": [],
   "source": [
    "import warnings\n",
    "warnings.filterwarnings('ignore')\n",
    "from sklearn.preprocessing import StandardScaler\n",
    "sc = StandardScaler(with_mean=False)\n",
    "bow_train1 = sc.fit_transform(bow_train)\n",
    "bow_cv1 = sc.transform(bow_cv)\n",
    "bow_test1 = sc.transform(bow_test)"
   ]
  },
  {
   "cell_type": "code",
   "execution_count": 55,
   "metadata": {},
   "outputs": [],
   "source": [
    "from sklearn.model_selection import GridSearchCV\n",
    "from sklearn.metrics import confusion_matrix, auc, roc_auc_score, roc_curve"
   ]
  },
  {
   "cell_type": "markdown",
   "metadata": {},
   "source": [
    "Hypertuning as follows:"
   ]
  },
  {
   "cell_type": "code",
   "execution_count": 56,
   "metadata": {},
   "outputs": [
    {
     "name": "stdout",
     "output_type": "stream",
     "text": [
      "AUC of Model 0.9321881340391387\n",
      "Model with best parameters :\n",
      " LogisticRegression(C=0.01, class_weight='balanced', dual=False,\n",
      "          fit_intercept=True, intercept_scaling=1, max_iter=100,\n",
      "          multi_class='ovr', n_jobs=1, penalty='l1', random_state=None,\n",
      "          solver='liblinear', tol=0.0001, verbose=0, warm_start=False)\n",
      "The optimal value of C(1/lamda) is :  0.01\n"
     ]
    }
   ],
   "source": [
    "list_C=[10** -4, 10**-3,10**-2,10**-1,1,10,100,1000,10000]\n",
    "param = {'C' : list_C }\n",
    "model_bow  =GridSearchCV(LogisticRegression(class_weight = 'balanced',penalty='l1'),param , scoring = 'roc_auc',cv = 3, n_jobs= -1)\n",
    "model_bow.fit(bow_train1,y_train)\n",
    "\n",
    "print(\"AUC of Model\", model_bow.score(bow_cv1, y_cv))\n",
    "print(\"Model with best parameters :\\n\",model_bow.best_estimator_)\n",
    "#Optimal value of C\n",
    "optimal_C = model_bow.best_estimator_.C\n",
    "print(\"The optimal value of C(1/lamda) is : \",optimal_C)"
   ]
  },
  {
   "cell_type": "markdown",
   "metadata": {},
   "source": [
    "# Graph representation of CV error v/s values of C on cv data of BOW with L1 as follows:"
   ]
  },
  {
   "cell_type": "code",
   "execution_count": 58,
   "metadata": {},
   "outputs": [],
   "source": [
    "cv_errors = [1-i for i in model_bow.cv_results_['mean_test_score']]"
   ]
  },
  {
   "cell_type": "code",
   "execution_count": 204,
   "metadata": {},
   "outputs": [
    {
     "data": {
      "image/png": "[encoded data removed]",
      "text/plain": [
       "<Figure size 432x288 with 1 Axes>"
      ]
     },
     "metadata": {},
     "output_type": "display_data"
    }
   ],
   "source": [
    "# plotting Cross-Validation Error vs Base learners graph \n",
    "plt.plot(list_C, cv_errors, marker='o')\n",
    "plt.xlabel('C values',size=12)\n",
    "plt.ylabel('CV_Error',size=12)\n",
    "plt.title('Cross-Validation Error VS Values of C Plot\\n',size=16)\n",
    "plt.tight_layout(pad=0.0)\n",
    "plt.grid()\n",
    "plt.show()"
   ]
  },
  {
   "cell_type": "markdown",
   "metadata": {},
   "source": [
    "# Graph representation of train error v/s values of C on train data of BOW with L1 as follows:"
   ]
  },
  {
   "cell_type": "code",
   "execution_count": 75,
   "metadata": {},
   "outputs": [
    {
     "data": {
      "image/png": "[encoded data removed]",
      "text/plain": [
       "<Figure size 432x288 with 1 Axes>"
      ]
     },
     "metadata": {},
     "output_type": "display_data"
    }
   ],
   "source": [
    "# Cross-Validation errors on train data\n",
    "cv_errors1 = [1-i for i in model_bow.cv_results_['mean_train_score']]\n",
    "# plotting Cross-Validation Error vs tuples of (max_depth,n_estimators) graph \n",
    "plt.plot(list_C, cv_errors1,marker='o')\n",
    "plt.xlabel('C values',size=12)\n",
    "plt.ylabel('train_Error',size=12)\n",
    "plt.title('Train Error VS C values Plot\\n',size=16)\n",
    "plt.tight_layout(pad=0.0)\n",
    "plt.grid()\n",
    "plt.show()"
   ]
  },
  {
   "cell_type": "markdown",
   "metadata": {},
   "source": [
    "### Confusion Matrix of train data as follows:"
   ]
  },
  {
   "cell_type": "code",
   "execution_count": 102,
   "metadata": {},
   "outputs": [
    {
     "data": {
      "text/plain": [
       "array([[ 6438,   492],\n",
       "       [ 3349, 38721]], dtype=int64)"
      ]
     },
     "execution_count": 102,
     "metadata": {},
     "output_type": "execute_result"
    }
   ],
   "source": [
    "pred_train= model_bow.predict(bow_train1)\n",
    "cm = confusion_matrix(y_train, pred_train)\n",
    "cm"
   ]
  },
  {
   "cell_type": "code",
   "execution_count": 103,
   "metadata": {},
   "outputs": [
    {
     "data": {
      "image/png": "[encoded data removed]",
      "text/plain": [
       "<Figure size 432x288 with 2 Axes>"
      ]
     },
     "metadata": {},
     "output_type": "display_data"
    }
   ],
   "source": [
    "# plot confusion matrix to describe the performance of classifier.\n",
    "import seaborn as sns\n",
    "class_label = [\"negative\", \"positive\"]\n",
    "df_cm = pd.DataFrame(cm, index = class_label, columns = class_label)\n",
    "sns.heatmap(df_cm, annot = True, fmt = \"d\")\n",
    "plt.title(\"Confusion Matrix\")\n",
    "plt.xlabel(\"Predicted Label\")\n",
    "plt.ylabel(\"True Label\")\n",
    "plt.show()"
   ]
  },
  {
   "cell_type": "markdown",
   "metadata": {},
   "source": [
    "# Result on Test Data of BOW "
   ]
  },
  {
   "cell_type": "code",
   "execution_count": 104,
   "metadata": {},
   "outputs": [
    {
     "data": {
      "text/plain": [
       "LogisticRegression(C=0.01, class_weight='balanced', dual=False,\n",
       "          fit_intercept=True, intercept_scaling=1, max_iter=100,\n",
       "          multi_class='ovr', n_jobs=-1, penalty='l1', random_state=None,\n",
       "          solver='liblinear', tol=0.0001, verbose=0, warm_start=False)"
      ]
     },
     "execution_count": 104,
     "metadata": {},
     "output_type": "execute_result"
    }
   ],
   "source": [
    "clf_bow = LogisticRegression(penalty = 'l1', C = 0.01,class_weight = 'balanced', n_jobs=-1)\n",
    "clf_bow.fit(bow_train1, y_train)"
   ]
  },
  {
   "cell_type": "markdown",
   "metadata": {},
   "source": [
    "## ROC Curve of train data and test data on BOW with L1 as follows:"
   ]
  },
  {
   "cell_type": "code",
   "execution_count": 105,
   "metadata": {},
   "outputs": [
    {
     "data": {
      "image/png": "[encoded data removed]",
      "text/plain": [
       "<Figure size 432x288 with 1 Axes>"
      ]
     },
     "metadata": {},
     "output_type": "display_data"
    }
   ],
   "source": [
    "train_fpr, train_tpr, thresholds = roc_curve(y_train, clf_bow.predict_proba(bow_train1)[:,1])\n",
    "test_fpr, test_tpr, thresholds = roc_curve(y_test, clf_bow.predict_proba(bow_test1)[:,1])\n",
    "\n",
    "plt.plot(train_fpr, train_tpr, label=\"train AUC =\"+str(auc(train_fpr, train_tpr)))\n",
    "#plt.scatter(train_fpr,train_tpr, label='train AUC')\n",
    "plt.plot(test_fpr, test_tpr, label=\"test AUC =\"+str(auc(test_fpr, test_tpr)))\n",
    "plt.plot([0,1], [0,1])\n",
    "plt.legend()\n",
    "plt.ylabel('True Positive Rate')\n",
    "plt.xlabel('False Positive Rate')\n",
    "plt.title(\"ROC Curve\")\n",
    "plt.show()"
   ]
  },
  {
   "cell_type": "code",
   "execution_count": 106,
   "metadata": {},
   "outputs": [
    {
     "name": "stdout",
     "output_type": "stream",
     "text": [
      "AUC value on train data: 0.9763595769573902\n",
      "AUC value on test data: 0.9319897140462694\n"
     ]
    }
   ],
   "source": [
    "pred = clf_bow.predict(bow_test1)\n",
    "pred_prob = clf_bow.predict_proba(bow_test1)[:,1]\n",
    "pred_prob_train= clf_bow.predict_proba(bow_train1)[:,1]\n",
    "print(\"AUC value on train data:\",roc_auc_score(y_train, pred_prob_train))\n",
    "print(\"AUC value on test data:\",roc_auc_score(y_test, pred_prob))"
   ]
  },
  {
   "cell_type": "markdown",
   "metadata": {},
   "source": [
    "### Confusion Matrix of Test data as follows:"
   ]
  },
  {
   "cell_type": "code",
   "execution_count": 107,
   "metadata": {},
   "outputs": [
    {
     "data": {
      "text/plain": [
       "array([[ 4260,   889],\n",
       "       [ 2537, 22314]], dtype=int64)"
      ]
     },
     "execution_count": 107,
     "metadata": {},
     "output_type": "execute_result"
    }
   ],
   "source": [
    "cm = confusion_matrix(y_test, pred)\n",
    "cm"
   ]
  },
  {
   "cell_type": "code",
   "execution_count": 108,
   "metadata": {},
   "outputs": [
    {
     "data": {
      "image/png": "[encoded data removed]",
      "text/plain": [
       "<Figure size 432x288 with 2 Axes>"
      ]
     },
     "metadata": {},
     "output_type": "display_data"
    }
   ],
   "source": [
    "# plot confusion matrix to describe the performance of classifier.\n",
    "class_label = [\"negative\", \"positive\"]\n",
    "df_cm = pd.DataFrame(cm, index = class_label, columns = class_label)\n",
    "sns.heatmap(df_cm, annot = True, fmt = \"d\")\n",
    "plt.title(\"Confusion Matrix\")\n",
    "plt.xlabel(\"Predicted Label\")\n",
    "plt.ylabel(\"True Label\")\n",
    "plt.show()"
   ]
  },
  {
   "cell_type": "code",
   "execution_count": 109,
   "metadata": {},
   "outputs": [
    {
     "name": "stdout",
     "output_type": "stream",
     "text": [
      "             precision    recall  f1-score   support\n",
      "\n",
      "          0       0.63      0.83      0.71      5149\n",
      "          1       0.96      0.90      0.93     24851\n",
      "\n",
      "avg / total       0.90      0.89      0.89     30000\n",
      "\n"
     ]
    }
   ],
   "source": [
    "# To show main classification report\n",
    "from sklearn.metrics import classification_report\n",
    "print(classification_report(y_test, pred))"
   ]
  },
  {
   "cell_type": "markdown",
   "metadata": {},
   "source": [
    "#### [5.1.1.1] Calculating sparsity on weight vector obtained using L1 regularization on BOW,<font color='red'> SET 1</font>"
   ]
  },
  {
   "cell_type": "code",
   "execution_count": 110,
   "metadata": {},
   "outputs": [
    {
     "name": "stdout",
     "output_type": "stream",
     "text": [
      "9838\n"
     ]
    }
   ],
   "source": [
    "#lamda=1\n",
    "clf = LogisticRegression(penalty = 'l1', C = 1,class_weight = 'balanced', n_jobs=-1)\n",
    "clf.fit(bow_train1, y_train)\n",
    "w = clf.coef_\n",
    "print(np.count_nonzero(w))"
   ]
  },
  {
   "cell_type": "code",
   "execution_count": 111,
   "metadata": {},
   "outputs": [
    {
     "name": "stdout",
     "output_type": "stream",
     "text": [
      "8627\n"
     ]
    }
   ],
   "source": [
    "#lamda=10\n",
    "clf = LogisticRegression(penalty = 'l1', C = 0.1,class_weight = 'balanced', n_jobs=-1)\n",
    "clf.fit(bow_train1, y_train)\n",
    "w = clf.coef_\n",
    "print(np.count_nonzero(w))"
   ]
  },
  {
   "cell_type": "code",
   "execution_count": 112,
   "metadata": {},
   "outputs": [
    {
     "name": "stdout",
     "output_type": "stream",
     "text": [
      "3182\n"
     ]
    }
   ],
   "source": [
    "#lamda=100\n",
    "clf = LogisticRegression(penalty = 'l1', C = 0.01,class_weight = 'balanced', n_jobs=-1)\n",
    "clf.fit(bow_train1, y_train)\n",
    "w = clf.coef_\n",
    "print(np.count_nonzero(w))"
   ]
  },
  {
   "cell_type": "code",
   "execution_count": 113,
   "metadata": {},
   "outputs": [
    {
     "name": "stdout",
     "output_type": "stream",
     "text": [
      "114\n"
     ]
    }
   ],
   "source": [
    "#lamda=1000\n",
    "clf = LogisticRegression(penalty = 'l1', C = 0.001,class_weight = 'balanced', n_jobs=-1)\n",
    "clf.fit(bow_train1, y_train)\n",
    "w = clf.coef_\n",
    "print(np.count_nonzero(w))"
   ]
  },
  {
   "cell_type": "markdown",
   "metadata": {},
   "source": [
    "OBSERVATION :- From above we can see that the number of non-zero elements of W* is decreasing as we are increasing the value of lambda (C is decreasing). that means more sparsity by increasing lamda(decreasing C)"
   ]
  },
  {
   "cell_type": "markdown",
   "metadata": {},
   "source": [
    "### [5.1.2] Applying Logistic Regression with L2 regularization on BOW,<font color='red'> SET 1</font>"
   ]
  },
  {
   "cell_type": "markdown",
   "metadata": {},
   "source": [
    "Hypertuning:"
   ]
  },
  {
   "cell_type": "code",
   "execution_count": 93,
   "metadata": {},
   "outputs": [
    {
     "name": "stdout",
     "output_type": "stream",
     "text": [
      "AUC of Model 0.9206410003926399\n",
      "Model with best parameters :\n",
      " LogisticRegression(C=0.0001, class_weight='balanced', dual=False,\n",
      "          fit_intercept=True, intercept_scaling=1, max_iter=100,\n",
      "          multi_class='ovr', n_jobs=1, penalty='l2', random_state=None,\n",
      "          solver='liblinear', tol=0.0001, verbose=0, warm_start=False)\n",
      "The optimal value of C(1/lamda) is :  0.0001\n"
     ]
    }
   ],
   "source": [
    "list_C=[10**-4, 10**-3,10**-2,10**-1,1,10,100,1000]\n",
    "param = {'C' : list_C }\n",
    "model_bow_l2=GridSearchCV(LogisticRegression(class_weight ='balanced',penalty='l2'),param ,scoring = 'roc_auc',cv = 3,n_jobs= -1)\n",
    "model_bow_l2.fit(bow_train1,y_train)\n",
    "\n",
    "print(\"AUC of Model\", model_bow_l2.score(bow_cv1, y_cv))\n",
    "print(\"Model with best parameters :\\n\",model_bow_l2.best_estimator_)\n",
    "#Optimal value of C\n",
    "optimal_C_bow_l2 = model_bow_l2.best_estimator_.C\n",
    "print(\"The optimal value of C(1/lamda) is : \",optimal_C_bow_l2)"
   ]
  },
  {
   "cell_type": "markdown",
   "metadata": {},
   "source": [
    "# Graph representation of CV error v/s values of C on cv data of BOW with L2 as follows:"
   ]
  },
  {
   "cell_type": "code",
   "execution_count": 114,
   "metadata": {},
   "outputs": [
    {
     "data": {
      "image/png": "[encoded data removed]",
      "text/plain": [
       "<Figure size 432x288 with 1 Axes>"
      ]
     },
     "metadata": {},
     "output_type": "display_data"
    }
   ],
   "source": [
    "cv_errors = [1-i for i in model_bow_l2.cv_results_['mean_test_score']]\n",
    "# plotting Cross-Validation Error vs Base learners graph \n",
    "plt.plot(list_C, cv_errors, marker='o')\n",
    "plt.xlabel('C values',size=12)\n",
    "plt.ylabel('CV_Error',size=12)\n",
    "plt.title('Cross-Validation Error VS Values of C Plot\\n',size=16)\n",
    "plt.tight_layout(pad=0.0)\n",
    "plt.grid()\n",
    "plt.show()"
   ]
  },
  {
   "cell_type": "markdown",
   "metadata": {},
   "source": [
    "# Graph representation of train error v/s values of C on train data of BOW with L2 as follows:"
   ]
  },
  {
   "cell_type": "code",
   "execution_count": 115,
   "metadata": {},
   "outputs": [
    {
     "data": {
      "image/png": "[encoded data removed]",
      "text/plain": [
       "<Figure size 432x288 with 1 Axes>"
      ]
     },
     "metadata": {},
     "output_type": "display_data"
    }
   ],
   "source": [
    "# Cross-Validation errors on train data\n",
    "cv_errors1 = [1-i for i in model_bow_l2.cv_results_['mean_train_score']]\n",
    "# plotting Cross-Validation Error vs tuples of (max_depth,n_estimators) graph \n",
    "plt.plot(list_C, cv_errors1,marker='o')\n",
    "plt.xlabel('C values',size=12)\n",
    "plt.ylabel('train_Error',size=12)\n",
    "plt.title('Train Error VS C values Plot\\n',size=16)\n",
    "plt.tight_layout(pad=0.0)\n",
    "plt.grid()\n",
    "plt.show()"
   ]
  },
  {
   "cell_type": "markdown",
   "metadata": {},
   "source": [
    "### Confusion Matrix of train data"
   ]
  },
  {
   "cell_type": "code",
   "execution_count": 116,
   "metadata": {},
   "outputs": [
    {
     "data": {
      "text/plain": [
       "array([[ 6506,   424],\n",
       "       [ 1868, 40202]], dtype=int64)"
      ]
     },
     "execution_count": 116,
     "metadata": {},
     "output_type": "execute_result"
    }
   ],
   "source": [
    "pred_train= model_bow_l2.predict(bow_train1)\n",
    "cm = confusion_matrix(y_train, pred_train)\n",
    "cm"
   ]
  },
  {
   "cell_type": "code",
   "execution_count": 117,
   "metadata": {},
   "outputs": [
    {
     "data": {
      "image/png": "[encoded data removed]",
      "text/plain": [
       "<Figure size 432x288 with 2 Axes>"
      ]
     },
     "metadata": {},
     "output_type": "display_data"
    }
   ],
   "source": [
    "# plot confusion matrix to describe the performance of classifier.\n",
    "import seaborn as sns\n",
    "class_label = [\"negative\", \"positive\"]\n",
    "df_cm = pd.DataFrame(cm, index = class_label, columns = class_label)\n",
    "sns.heatmap(df_cm, annot = True, fmt = \"d\")\n",
    "plt.title(\"Confusion Matrix\")\n",
    "plt.xlabel(\"Predicted Label\")\n",
    "plt.ylabel(\"True Label\")\n",
    "plt.show()"
   ]
  },
  {
   "cell_type": "markdown",
   "metadata": {},
   "source": [
    "# Result on Test data of BOW with L2"
   ]
  },
  {
   "cell_type": "code",
   "execution_count": 118,
   "metadata": {},
   "outputs": [
    {
     "data": {
      "text/plain": [
       "LogisticRegression(C=0.0001, class_weight='balanced', dual=False,\n",
       "          fit_intercept=True, intercept_scaling=1, max_iter=100,\n",
       "          multi_class='ovr', n_jobs=-1, penalty='l2', random_state=None,\n",
       "          solver='liblinear', tol=0.0001, verbose=0, warm_start=False)"
      ]
     },
     "execution_count": 118,
     "metadata": {},
     "output_type": "execute_result"
    }
   ],
   "source": [
    "clf_bow_l2 = LogisticRegression(penalty = 'l2', C = 0.0001,class_weight = 'balanced', n_jobs=-1)\n",
    "clf_bow_l2.fit(bow_train1, y_train)"
   ]
  },
  {
   "cell_type": "markdown",
   "metadata": {},
   "source": [
    "## ROC Curve of train data and test data on BOW with L2 as follows:"
   ]
  },
  {
   "cell_type": "code",
   "execution_count": 119,
   "metadata": {},
   "outputs": [
    {
     "data": {
      "image/png": "[encoded data removed]",
      "text/plain": [
       "<Figure size 432x288 with 1 Axes>"
      ]
     },
     "metadata": {},
     "output_type": "display_data"
    }
   ],
   "source": [
    "train_fpr, train_tpr, thresholds = roc_curve(y_train, clf_bow_l2.predict_proba(bow_train1)[:,1])\n",
    "test_fpr, test_tpr, thresholds = roc_curve(y_test, clf_bow_l2.predict_proba(bow_test1)[:,1])\n",
    "\n",
    "plt.plot(train_fpr, train_tpr, label=\"train AUC =\"+str(auc(train_fpr, train_tpr)))\n",
    "#plt.scatter(train_fpr,train_tpr, label='train AUC')\n",
    "plt.plot(test_fpr, test_tpr, label=\"test AUC =\"+str(auc(test_fpr, test_tpr)))\n",
    "plt.plot([0,1], [0,1])\n",
    "plt.legend()\n",
    "plt.ylabel('True Positive Rate')\n",
    "plt.xlabel('False Positive Rate')\n",
    "plt.title(\"ROC Curve\")\n",
    "plt.show()"
   ]
  },
  {
   "cell_type": "code",
   "execution_count": 120,
   "metadata": {},
   "outputs": [
    {
     "name": "stdout",
     "output_type": "stream",
     "text": [
      "AUC value on train data: 0.9882215581740185\n",
      "AUC value on test data: 0.9160108208800934\n"
     ]
    }
   ],
   "source": [
    "pred = clf_bow_l2.predict(bow_test1)\n",
    "pred_prob = clf_bow_l2.predict_proba(bow_test1)[:,1]\n",
    "pred_prob_train= clf_bow_l2.predict_proba(bow_train1)[:,1]\n",
    "print(\"AUC value on train data:\",roc_auc_score(y_train, pred_prob_train))\n",
    "print(\"AUC value on test data:\",roc_auc_score(y_test, pred_prob))"
   ]
  },
  {
   "cell_type": "markdown",
   "metadata": {},
   "source": [
    "### Confusion Matrix of test data"
   ]
  },
  {
   "cell_type": "code",
   "execution_count": 121,
   "metadata": {},
   "outputs": [
    {
     "data": {
      "text/plain": [
       "array([[ 4005,  1144],\n",
       "       [ 2184, 22667]], dtype=int64)"
      ]
     },
     "execution_count": 121,
     "metadata": {},
     "output_type": "execute_result"
    }
   ],
   "source": [
    "cm = confusion_matrix(y_test, pred)\n",
    "cm"
   ]
  },
  {
   "cell_type": "code",
   "execution_count": 122,
   "metadata": {},
   "outputs": [
    {
     "data": {
      "image/png": "[encoded data removed]",
      "text/plain": [
       "<Figure size 432x288 with 2 Axes>"
      ]
     },
     "metadata": {},
     "output_type": "display_data"
    }
   ],
   "source": [
    "# plot confusion matrix to describe the performance of classifier.\n",
    "class_label = [\"negative\", \"positive\"]\n",
    "df_cm = pd.DataFrame(cm, index = class_label, columns = class_label)\n",
    "sns.heatmap(df_cm, annot = True, fmt = \"d\")\n",
    "plt.title(\"Confusion Matrix\")\n",
    "plt.xlabel(\"Predicted Label\")\n",
    "plt.ylabel(\"True Label\")\n",
    "plt.show()"
   ]
  },
  {
   "cell_type": "code",
   "execution_count": 123,
   "metadata": {},
   "outputs": [
    {
     "name": "stdout",
     "output_type": "stream",
     "text": [
      "             precision    recall  f1-score   support\n",
      "\n",
      "          0       0.65      0.78      0.71      5149\n",
      "          1       0.95      0.91      0.93     24851\n",
      "\n",
      "avg / total       0.90      0.89      0.89     30000\n",
      "\n"
     ]
    }
   ],
   "source": [
    "# To show main classification report\n",
    "from sklearn.metrics import classification_report\n",
    "print(classification_report(y_test, pred))"
   ]
  },
  {
   "cell_type": "markdown",
   "metadata": {},
   "source": [
    "#### [5.1.2.1] Performing pertubation test (multicollinearity check) on BOW,<font color='red'> SET 1</font>"
   ]
  },
  {
   "cell_type": "code",
   "execution_count": 126,
   "metadata": {},
   "outputs": [
    {
     "name": "stdout",
     "output_type": "stream",
     "text": [
      "(49000, 27148)\n",
      "(49000, 27148)\n"
     ]
    }
   ],
   "source": [
    "import scipy as sp\n",
    "epsilon = sp.stats.distributions.norm.rvs(loc=0,scale=0.0001)\n",
    "# Vector before the addition of epsilon\n",
    "W_before_epsilon = clf_bow_l2.coef_\n",
    "\n",
    "# Number of non zero elements in X_train_vec_standardized sparse matrix\n",
    "no_of_non_zero = bow_train1.count_nonzero()\n",
    "\n",
    "# Importing library to create a sparse matrix of epsilon\n",
    "from scipy.sparse import csr_matrix\n",
    "\n",
    "# Creating new sparse matrix with epsilon at same position of non-zero elements of X_train_vec_standardized\n",
    "indices_X_train = bow_train1.indices\n",
    "indptr_X_train = bow_train1.indptr\n",
    "\n",
    "# Creating a list of same element with repetition\n",
    "data = [epsilon] * no_of_non_zero\n",
    "Shape = bow_train1.shape\n",
    "\n",
    "# Creating sparse matrix\n",
    "sparse_epsilon = csr_matrix((data,indices_X_train,indptr_X_train),shape=Shape,dtype=float)\n",
    "\n",
    "# Add sparse_epsilon and X-train_vec_standardized to get a new sparse matrix with epsilon added to each \n",
    "# non-zero element of X_train_vec_standardized\n",
    "epsilon_train = bow_train1 + sparse_epsilon\n",
    "\n",
    "print(bow_train1.shape)\n",
    "print(epsilon_train.shape)"
   ]
  },
  {
   "cell_type": "code",
   "execution_count": 127,
   "metadata": {},
   "outputs": [
    {
     "data": {
      "text/plain": [
       "array([0.05242135, 0.04937718, 0.04020544, 0.03736073, 0.03359917,\n",
       "       0.0328207 , 0.03052692, 0.02850071, 0.02812994, 0.02769624,\n",
       "       0.02611108, 0.02537542, 0.02271279, 0.02270074, 0.02210336,\n",
       "       0.0214304 , 0.02084994, 0.02058239, 0.0201501 , 0.020125  ])"
      ]
     },
     "execution_count": 127,
     "metadata": {},
     "output_type": "execute_result"
    }
   ],
   "source": [
    "# training Logistic Regression Classifier with epsilon_train\n",
    "epsilon_lr = LogisticRegression(penalty='l2', C=0.0001, n_jobs=-1)\n",
    "epsilon_lr.fit(epsilon_train,y_train)\n",
    "\n",
    "# Vector after the addition of epsilon\n",
    "W_after_epsilon = epsilon_lr.coef_\n",
    "\n",
    "# Change in vectors after adding epsilon\n",
    "change_vector = W_after_epsilon - W_before_epsilon\n",
    "# Sort this change_vector array after making all the elements positive in ascending order to visualize the change\n",
    "sorted_change_vector = np.sort(np.absolute(change_vector))[:,::-1]\n",
    "\n",
    "sorted_change_vector[0,0:20]"
   ]
  },
  {
   "cell_type": "markdown",
   "metadata": {},
   "source": [
    "OBSERVATION :- From above we can see that there is no large change in the weights of the both vectors . So we will use absolute value of weights(|w|) of the feature to find important features"
   ]
  },
  {
   "cell_type": "markdown",
   "metadata": {},
   "source": [
    "### [5.1.3] Feature Importance on BOW,<font color='red'> SET 1</font>"
   ]
  },
  {
   "cell_type": "markdown",
   "metadata": {},
   "source": [
    "#### [5.1.3.1] Top 10 important features of from<font color='red'> SET 1</font> with L2 Regularization"
   ]
  },
  {
   "cell_type": "code",
   "execution_count": 130,
   "metadata": {},
   "outputs": [
    {
     "name": "stdout",
     "output_type": "stream",
     "text": [
      "Top 20 features with their weight values :\n",
      "       great\t--> \t0.165311\n",
      "  disappoint\t--> \t-0.135962\n",
      "        love\t--> \t0.135302\n",
      "        best\t--> \t0.119928\n",
      "      delici\t--> \t0.092360\n",
      "        good\t--> \t0.081581\n",
      "     perfect\t--> \t0.080755\n",
      "       worst\t--> \t-0.080472\n",
      "       excel\t--> \t0.078765\n",
      "         bad\t--> \t-0.074469\n"
     ]
    }
   ],
   "source": [
    "absolute_weights = np.absolute(W_before_epsilon)\n",
    "sorted_absolute_index = np.argsort(absolute_weights)[:,::-1]\n",
    "top_index = sorted_absolute_index[0,0:10]\n",
    "\n",
    "all_features = count_vector.get_feature_names()\n",
    "weight_values = clf_bow_l2.coef_\n",
    "\n",
    "# Top 20 features are    \n",
    "print(\"Top 20 features with their weight values :\")\n",
    "\n",
    "for j in top_index:\n",
    "    print(\"%12s\\t--> \\t%f\"%(all_features[j],weight_values[0,j]))"
   ]
  },
  {
   "cell_type": "markdown",
   "metadata": {},
   "source": [
    "#### [5.1.3.2] Top 10 important features from<font color='red'> SET 1</font> with L1 regularization"
   ]
  },
  {
   "cell_type": "code",
   "execution_count": 131,
   "metadata": {},
   "outputs": [
    {
     "name": "stdout",
     "output_type": "stream",
     "text": [
      "Top 20 features with their weight values :\n",
      "       great\t--> \t0.672384\n",
      "  disappoint\t--> \t-0.323000\n",
      "        love\t--> \t0.513962\n",
      "        best\t--> \t0.580793\n",
      "      delici\t--> \t0.415359\n",
      "        good\t--> \t0.342810\n",
      "     perfect\t--> \t0.356325\n",
      "       worst\t--> \t-0.209021\n",
      "       excel\t--> \t0.339626\n",
      "         bad\t--> \t-0.169969\n"
     ]
    }
   ],
   "source": [
    "absolute_weights = np.absolute(W_before_epsilon)\n",
    "sorted_absolute_index = np.argsort(absolute_weights)[:,::-1]\n",
    "top_index = sorted_absolute_index[0,0:10]\n",
    "\n",
    "all_features = count_vector.get_feature_names()\n",
    "weight_values = clf_bow.coef_\n",
    "\n",
    "# Top 20 features are    \n",
    "print(\"Top 20 features with their weight values :\")\n",
    "\n",
    "for j in top_index:\n",
    "    print(\"%12s\\t--> \\t%f\"%(all_features[j],weight_values[0,j]))"
   ]
  },
  {
   "cell_type": "markdown",
   "metadata": {},
   "source": [
    "## [5.2] Logistic Regression on TFIDF,<font color='red'> SET 2</font>"
   ]
  },
  {
   "cell_type": "code",
   "execution_count": 90,
   "metadata": {},
   "outputs": [],
   "source": [
    "sc = StandardScaler(with_mean=False)\n",
    "tf_train1 = sc.fit_transform(tf_train)\n",
    "tf_cv1 = sc.transform(tf_cv)\n",
    "tf_test1 = sc.transform(tf_test)"
   ]
  },
  {
   "cell_type": "markdown",
   "metadata": {},
   "source": [
    "### [5.2.1] Applying Logistic Regression with L1 regularization on TFIDF,<font color='red'> SET 2</font>"
   ]
  },
  {
   "cell_type": "markdown",
   "metadata": {},
   "source": [
    "Hypertuning:"
   ]
  },
  {
   "cell_type": "code",
   "execution_count": 94,
   "metadata": {},
   "outputs": [
    {
     "name": "stdout",
     "output_type": "stream",
     "text": [
      "AUC of Model 0.947685170683659\n",
      "Model with best parameters :\n",
      " LogisticRegression(C=0.01, class_weight='balanced', dual=False,\n",
      "          fit_intercept=True, intercept_scaling=1, max_iter=100,\n",
      "          multi_class='ovr', n_jobs=1, penalty='l1', random_state=None,\n",
      "          solver='liblinear', tol=0.0001, verbose=0, warm_start=False)\n",
      "The optimal value of C(1/lamda) is :  0.01\n"
     ]
    }
   ],
   "source": [
    "list_C=[10**-4, 10**-3,10**-2,10**-1,1,10,100,1000]\n",
    "param = {'C' : list_C }\n",
    "model_tf_l1=GridSearchCV(LogisticRegression(class_weight = 'balanced',penalty='l1'),param ,scoring = 'roc_auc',cv = 3,n_jobs= -1)\n",
    "model_tf_l1.fit(tf_train1,y_train)\n",
    "\n",
    "print(\"AUC of Model\", model_tf_l1.score(tf_cv1, y_cv))\n",
    "print(\"Model with best parameters :\\n\",model_tf_l1.best_estimator_)\n",
    "#Optimal value of C\n",
    "optimal_C_tf_l1 = model_tf_l1.best_estimator_.C\n",
    "print(\"The optimal value of C(1/lamda) is : \",optimal_C_tf_l1)"
   ]
  },
  {
   "cell_type": "markdown",
   "metadata": {},
   "source": [
    "# Graph representation of CV error v/s values of C on cv data of TFIDF with L1 as follows:"
   ]
  },
  {
   "cell_type": "code",
   "execution_count": 132,
   "metadata": {},
   "outputs": [
    {
     "data": {
      "image/png": "[encoded data removed]",
      "text/plain": [
       "<Figure size 432x288 with 1 Axes>"
      ]
     },
     "metadata": {},
     "output_type": "display_data"
    }
   ],
   "source": [
    "cv_errors = [1-i for i in model_tf_l1.cv_results_['mean_test_score']]\n",
    "# plotting Cross-Validation Error vs Base learners graph \n",
    "plt.plot(list_C, cv_errors, marker='o')\n",
    "plt.xlabel('C values',size=12)\n",
    "plt.ylabel('CV_Error',size=12)\n",
    "plt.title('Cross-Validation Error VS Values of C Plot\\n',size=16)\n",
    "plt.tight_layout(pad=0.0)\n",
    "plt.grid()\n",
    "plt.show()"
   ]
  },
  {
   "cell_type": "markdown",
   "metadata": {},
   "source": [
    "# Graph representation of train error v/s values of C on train data of TFIDF with L1 as follows: "
   ]
  },
  {
   "cell_type": "code",
   "execution_count": 133,
   "metadata": {},
   "outputs": [
    {
     "data": {
      "image/png": "[encoded data removed]",
      "text/plain": [
       "<Figure size 432x288 with 1 Axes>"
      ]
     },
     "metadata": {},
     "output_type": "display_data"
    }
   ],
   "source": [
    "# Cross-Validation errors on train data\n",
    "cv_errors1 = [1-i for i in model_tf_l1.cv_results_['mean_train_score']]\n",
    "# plotting Cross-Validation Error vs tuples of (max_depth,n_estimators) graph \n",
    "plt.plot(list_C, cv_errors1,marker='o')\n",
    "plt.xlabel('C values',size=12)\n",
    "plt.ylabel('train_Error',size=12)\n",
    "plt.title('Train Error VS C values Plot\\n',size=16)\n",
    "plt.tight_layout(pad=0.0)\n",
    "plt.grid()\n",
    "plt.show()"
   ]
  },
  {
   "cell_type": "markdown",
   "metadata": {},
   "source": [
    "### Confusion Matrix of train data"
   ]
  },
  {
   "cell_type": "code",
   "execution_count": 134,
   "metadata": {},
   "outputs": [
    {
     "data": {
      "text/plain": [
       "array([[ 6808,   122],\n",
       "       [ 2424, 39646]], dtype=int64)"
      ]
     },
     "execution_count": 134,
     "metadata": {},
     "output_type": "execute_result"
    }
   ],
   "source": [
    "pred_train= model_tf_l1.predict(tf_train1)\n",
    "cm = confusion_matrix(y_train, pred_train)\n",
    "cm"
   ]
  },
  {
   "cell_type": "code",
   "execution_count": 135,
   "metadata": {},
   "outputs": [
    {
     "data": {
      "image/png": "[encoded data removed]",
      "text/plain": [
       "<Figure size 432x288 with 2 Axes>"
      ]
     },
     "metadata": {},
     "output_type": "display_data"
    }
   ],
   "source": [
    "# plot confusion matrix to describe the performance of classifier.\n",
    "import seaborn as sns\n",
    "class_label = [\"negative\", \"positive\"]\n",
    "df_cm = pd.DataFrame(cm, index = class_label, columns = class_label)\n",
    "sns.heatmap(df_cm, annot = True, fmt = \"d\")\n",
    "plt.title(\"Confusion Matrix\")\n",
    "plt.xlabel(\"Predicted Label\")\n",
    "plt.ylabel(\"True Label\")\n",
    "plt.show()"
   ]
  },
  {
   "cell_type": "markdown",
   "metadata": {},
   "source": [
    "# Result on test data of TFIDF with L1 Regularization"
   ]
  },
  {
   "cell_type": "code",
   "execution_count": 136,
   "metadata": {},
   "outputs": [
    {
     "data": {
      "text/plain": [
       "LogisticRegression(C=0.01, class_weight='balanced', dual=False,\n",
       "          fit_intercept=True, intercept_scaling=1, max_iter=100,\n",
       "          multi_class='ovr', n_jobs=-1, penalty='l1', random_state=None,\n",
       "          solver='liblinear', tol=0.0001, verbose=0, warm_start=False)"
      ]
     },
     "execution_count": 136,
     "metadata": {},
     "output_type": "execute_result"
    }
   ],
   "source": [
    "clf_tf_l1 = LogisticRegression(penalty = 'l1', C = 0.01,class_weight = 'balanced', n_jobs=-1)\n",
    "clf_tf_l1.fit(tf_train1, y_train)"
   ]
  },
  {
   "cell_type": "markdown",
   "metadata": {},
   "source": [
    "## ROC Curve of train data and test data on TFIDF with L1 as follows:"
   ]
  },
  {
   "cell_type": "code",
   "execution_count": 137,
   "metadata": {},
   "outputs": [
    {
     "data": {
      "image/png": "[encoded data removed]",
      "text/plain": [
       "<Figure size 432x288 with 1 Axes>"
      ]
     },
     "metadata": {},
     "output_type": "display_data"
    }
   ],
   "source": [
    "train_fpr, train_tpr, thresholds = roc_curve(y_train, clf_tf_l1.predict_proba(tf_train1)[:,1])\n",
    "test_fpr, test_tpr, thresholds = roc_curve(y_test, clf_tf_l1.predict_proba(tf_test1)[:,1])\n",
    "\n",
    "plt.plot(train_fpr, train_tpr, label=\"train AUC =\"+str(auc(train_fpr, train_tpr)))\n",
    "#plt.scatter(train_fpr,train_tpr, label='train AUC')\n",
    "plt.plot(test_fpr, test_tpr, label=\"test AUC =\"+str(auc(test_fpr, test_tpr)))\n",
    "plt.plot([0,1], [0,1])\n",
    "plt.legend()\n",
    "plt.ylabel('True Positive Rate')\n",
    "plt.xlabel('False Positive Rate')\n",
    "plt.title(\"ROC Curve\")\n",
    "plt.show()"
   ]
  },
  {
   "cell_type": "code",
   "execution_count": 138,
   "metadata": {},
   "outputs": [
    {
     "name": "stdout",
     "output_type": "stream",
     "text": [
      "AUC value on train data: 0.9905078528159107\n",
      "AUC value on test data: 0.9458591265703157\n"
     ]
    }
   ],
   "source": [
    "pred = clf_tf_l1.predict(tf_test1)\n",
    "pred_prob = clf_tf_l1.predict_proba(tf_test1)[:,1]\n",
    "pred_prob_train= clf_tf_l1.predict_proba(tf_train1)[:,1]\n",
    "print(\"AUC value on train data:\",roc_auc_score(y_train, pred_prob_train))\n",
    "print(\"AUC value on test data:\",roc_auc_score(y_test, pred_prob))"
   ]
  },
  {
   "cell_type": "markdown",
   "metadata": {},
   "source": [
    "### Confusion Matrix of test data "
   ]
  },
  {
   "cell_type": "code",
   "execution_count": 139,
   "metadata": {},
   "outputs": [
    {
     "data": {
      "text/plain": [
       "array([[ 4216,   933],\n",
       "       [ 2171, 22680]], dtype=int64)"
      ]
     },
     "execution_count": 139,
     "metadata": {},
     "output_type": "execute_result"
    }
   ],
   "source": [
    "cm = confusion_matrix(y_test, pred)\n",
    "cm"
   ]
  },
  {
   "cell_type": "code",
   "execution_count": 140,
   "metadata": {},
   "outputs": [
    {
     "data": {
      "image/png": "[encoded data removed]",
      "text/plain": [
       "<Figure size 432x288 with 2 Axes>"
      ]
     },
     "metadata": {},
     "output_type": "display_data"
    }
   ],
   "source": [
    "# plot confusion matrix to describe the performance of classifier.\n",
    "class_label = [\"negative\", \"positive\"]\n",
    "df_cm = pd.DataFrame(cm, index = class_label, columns = class_label)\n",
    "sns.heatmap(df_cm, annot = True, fmt = \"d\")\n",
    "plt.title(\"Confusion Matrix\")\n",
    "plt.xlabel(\"Predicted Label\")\n",
    "plt.ylabel(\"True Label\")\n",
    "plt.show()"
   ]
  },
  {
   "cell_type": "code",
   "execution_count": 141,
   "metadata": {},
   "outputs": [
    {
     "name": "stdout",
     "output_type": "stream",
     "text": [
      "             precision    recall  f1-score   support\n",
      "\n",
      "          0       0.66      0.82      0.73      5149\n",
      "          1       0.96      0.91      0.94     24851\n",
      "\n",
      "avg / total       0.91      0.90      0.90     30000\n",
      "\n"
     ]
    }
   ],
   "source": [
    "# To show main classification report\n",
    "from sklearn.metrics import classification_report\n",
    "print(classification_report(y_test, pred))"
   ]
  },
  {
   "cell_type": "markdown",
   "metadata": {},
   "source": [
    "### [5.2.2] Applying Logistic Regression with L2 regularization on TFIDF,<font color='red'> SET 2</font>"
   ]
  },
  {
   "cell_type": "markdown",
   "metadata": {},
   "source": [
    "Hypertuning:"
   ]
  },
  {
   "cell_type": "code",
   "execution_count": 95,
   "metadata": {},
   "outputs": [
    {
     "name": "stdout",
     "output_type": "stream",
     "text": [
      "AUC of Model 0.9427385838011018\n",
      "Model with best parameters :\n",
      " LogisticRegression(C=0.0001, class_weight='balanced', dual=False,\n",
      "          fit_intercept=True, intercept_scaling=1, max_iter=100,\n",
      "          multi_class='ovr', n_jobs=1, penalty='l2', random_state=None,\n",
      "          solver='liblinear', tol=0.0001, verbose=0, warm_start=False)\n",
      "The optimal value of C(1/lamda) is :  0.0001\n"
     ]
    }
   ],
   "source": [
    "list_C=[10**-4, 10**-3,10**-2,10**-1,1,10,100,1000]\n",
    "param = {'C' : list_C }\n",
    "model_tf_l2=GridSearchCV(LogisticRegression(class_weight = 'balanced',penalty='l2'),param ,scoring = 'roc_auc',cv = 3,n_jobs= -1)\n",
    "model_tf_l2.fit(tf_train1,y_train)\n",
    "\n",
    "print(\"AUC of Model\", model_tf_l2.score(tf_cv1, y_cv))\n",
    "print(\"Model with best parameters :\\n\",model_tf_l2.best_estimator_)\n",
    "#Optimal value of C\n",
    "optimal_C_tf_l2 = model_tf_l2.best_estimator_.C\n",
    "print(\"The optimal value of C(1/lamda) is : \",optimal_C_tf_l2)"
   ]
  },
  {
   "cell_type": "markdown",
   "metadata": {},
   "source": [
    "# Graph representation of CV error v/s values of C on CV data of TFIDF with L2 as follows:"
   ]
  },
  {
   "cell_type": "code",
   "execution_count": 142,
   "metadata": {},
   "outputs": [
    {
     "data": {
      "image/png": "[encoded data removed]",
      "text/plain": [
       "<Figure size 432x288 with 1 Axes>"
      ]
     },
     "metadata": {},
     "output_type": "display_data"
    }
   ],
   "source": [
    "cv_errors = [1-i for i in model_tf_l2.cv_results_['mean_test_score']]\n",
    "# plotting Cross-Validation Error vs Base learners graph \n",
    "plt.plot(list_C, cv_errors, marker='o')\n",
    "plt.xlabel('C values',size=12)\n",
    "plt.ylabel('CV_Error',size=12)\n",
    "plt.title('Cross-Validation Error VS Values of C Plot\\n',size=16)\n",
    "plt.tight_layout(pad=0.0)\n",
    "plt.grid()\n",
    "plt.show()"
   ]
  },
  {
   "cell_type": "markdown",
   "metadata": {},
   "source": [
    "# Graph representation of train error v/s values of C on train data of TFIDF with L2 as follows:"
   ]
  },
  {
   "cell_type": "code",
   "execution_count": 143,
   "metadata": {},
   "outputs": [
    {
     "data": {
      "image/png": "[encoded data removed]",
      "text/plain": [
       "<Figure size 432x288 with 1 Axes>"
      ]
     },
     "metadata": {},
     "output_type": "display_data"
    }
   ],
   "source": [
    "# Cross-Validation errors on train data\n",
    "cv_errors1 = [1-i for i in model_tf_l2.cv_results_['mean_train_score']]\n",
    "# plotting Cross-Validation Error vs tuples of (max_depth,n_estimators) graph \n",
    "plt.plot(list_C, cv_errors1,marker='o')\n",
    "plt.xlabel('C values',size=12)\n",
    "plt.ylabel('train_Error',size=12)\n",
    "plt.title('Train Error VS C values Plot\\n',size=16)\n",
    "plt.tight_layout(pad=0.0)\n",
    "plt.grid()\n",
    "plt.show()"
   ]
  },
  {
   "cell_type": "markdown",
   "metadata": {},
   "source": [
    "### Confusion Matrix of train data"
   ]
  },
  {
   "cell_type": "code",
   "execution_count": 144,
   "metadata": {},
   "outputs": [
    {
     "data": {
      "text/plain": [
       "array([[ 6917,    13],\n",
       "       [ 1286, 40784]], dtype=int64)"
      ]
     },
     "execution_count": 144,
     "metadata": {},
     "output_type": "execute_result"
    }
   ],
   "source": [
    "pred_train= model_tf_l2.predict(tf_train1)\n",
    "cm = confusion_matrix(y_train, pred_train)\n",
    "cm"
   ]
  },
  {
   "cell_type": "code",
   "execution_count": 145,
   "metadata": {},
   "outputs": [
    {
     "data": {
      "image/png": "[encoded data removed]",
      "text/plain": [
       "<Figure size 432x288 with 2 Axes>"
      ]
     },
     "metadata": {},
     "output_type": "display_data"
    }
   ],
   "source": [
    "# plot confusion matrix to describe the performance of classifier.\n",
    "import seaborn as sns\n",
    "class_label = [\"negative\", \"positive\"]\n",
    "df_cm = pd.DataFrame(cm, index = class_label, columns = class_label)\n",
    "sns.heatmap(df_cm, annot = True, fmt = \"d\")\n",
    "plt.title(\"Confusion Matrix\")\n",
    "plt.xlabel(\"Predicted Label\")\n",
    "plt.ylabel(\"True Label\")\n",
    "plt.show()"
   ]
  },
  {
   "cell_type": "markdown",
   "metadata": {},
   "source": [
    "# Result on test data of TFIDF with L2 Regularization"
   ]
  },
  {
   "cell_type": "code",
   "execution_count": 146,
   "metadata": {},
   "outputs": [
    {
     "data": {
      "text/plain": [
       "LogisticRegression(C=0.0001, class_weight='balanced', dual=False,\n",
       "          fit_intercept=True, intercept_scaling=1, max_iter=100,\n",
       "          multi_class='ovr', n_jobs=-1, penalty='l2', random_state=None,\n",
       "          solver='liblinear', tol=0.0001, verbose=0, warm_start=False)"
      ]
     },
     "execution_count": 146,
     "metadata": {},
     "output_type": "execute_result"
    }
   ],
   "source": [
    "clf_tf_l2 = LogisticRegression(penalty = 'l2', C = 0.0001,class_weight = 'balanced', n_jobs=-1)\n",
    "clf_tf_l2.fit(tf_train1, y_train)"
   ]
  },
  {
   "cell_type": "markdown",
   "metadata": {},
   "source": [
    "## ROC Curve of train data and test data on TFIDF with L2 as follows:"
   ]
  },
  {
   "cell_type": "code",
   "execution_count": 147,
   "metadata": {},
   "outputs": [
    {
     "data": {
      "image/png": "[encoded data removed]",
      "text/plain": [
       "<Figure size 432x288 with 1 Axes>"
      ]
     },
     "metadata": {},
     "output_type": "display_data"
    }
   ],
   "source": [
    "train_fpr, train_tpr, thresholds = roc_curve(y_train, clf_tf_l2.predict_proba(tf_train1)[:,1])\n",
    "test_fpr, test_tpr, thresholds = roc_curve(y_test, clf_tf_l2.predict_proba(tf_test1)[:,1])\n",
    "\n",
    "plt.plot(train_fpr, train_tpr, label=\"train AUC =\"+str(auc(train_fpr, train_tpr)))\n",
    "#plt.scatter(train_fpr,train_tpr, label='train AUC')\n",
    "plt.plot(test_fpr, test_tpr, label=\"test AUC =\"+str(auc(test_fpr, test_tpr)))\n",
    "plt.plot([0,1], [0,1])\n",
    "plt.legend()\n",
    "plt.ylabel('True Positive Rate')\n",
    "plt.xlabel('False Positive Rate')\n",
    "plt.title(\"ROC Curve\")\n",
    "plt.show()"
   ]
  },
  {
   "cell_type": "code",
   "execution_count": 148,
   "metadata": {},
   "outputs": [
    {
     "name": "stdout",
     "output_type": "stream",
     "text": [
      "AUC value on train data: 0.9983242455455433\n",
      "AUC value on test data: 0.9400234174081097\n"
     ]
    }
   ],
   "source": [
    "pred = clf_tf_l2.predict(tf_test1)\n",
    "pred_prob = clf_tf_l2.predict_proba(tf_test1)[:,1]\n",
    "pred_prob_train= clf_tf_l2.predict_proba(tf_train1)[:,1]\n",
    "print(\"AUC value on train data:\",roc_auc_score(y_train, pred_prob_train))\n",
    "print(\"AUC value on test data:\",roc_auc_score(y_test, pred_prob))"
   ]
  },
  {
   "cell_type": "markdown",
   "metadata": {},
   "source": [
    "### Confusion Matrix of test data"
   ]
  },
  {
   "cell_type": "code",
   "execution_count": 149,
   "metadata": {},
   "outputs": [
    {
     "data": {
      "text/plain": [
       "array([[ 4019,  1130],\n",
       "       [ 1801, 23050]], dtype=int64)"
      ]
     },
     "execution_count": 149,
     "metadata": {},
     "output_type": "execute_result"
    }
   ],
   "source": [
    "cm = confusion_matrix(y_test, pred)\n",
    "cm"
   ]
  },
  {
   "cell_type": "code",
   "execution_count": 150,
   "metadata": {},
   "outputs": [
    {
     "data": {
      "image/png": "[encoded data removed]",
      "text/plain": [
       "<Figure size 432x288 with 2 Axes>"
      ]
     },
     "metadata": {},
     "output_type": "display_data"
    }
   ],
   "source": [
    "# plot confusion matrix to describe the performance of classifier.\n",
    "class_label = [\"negative\", \"positive\"]\n",
    "df_cm = pd.DataFrame(cm, index = class_label, columns = class_label)\n",
    "sns.heatmap(df_cm, annot = True, fmt = \"d\")\n",
    "plt.title(\"Confusion Matrix\")\n",
    "plt.xlabel(\"Predicted Label\")\n",
    "plt.ylabel(\"True Label\")\n",
    "plt.show()"
   ]
  },
  {
   "cell_type": "code",
   "execution_count": 151,
   "metadata": {},
   "outputs": [
    {
     "name": "stdout",
     "output_type": "stream",
     "text": [
      "             precision    recall  f1-score   support\n",
      "\n",
      "          0       0.69      0.78      0.73      5149\n",
      "          1       0.95      0.93      0.94     24851\n",
      "\n",
      "avg / total       0.91      0.90      0.90     30000\n",
      "\n"
     ]
    }
   ],
   "source": [
    "# To show main classification report\n",
    "from sklearn.metrics import classification_report\n",
    "print(classification_report(y_test, pred))"
   ]
  },
  {
   "cell_type": "markdown",
   "metadata": {},
   "source": [
    "### [5.2.3] Feature Importance on TFIDF,<font color='red'> SET 2</font>"
   ]
  },
  {
   "cell_type": "markdown",
   "metadata": {},
   "source": [
    "#### [5.2.3.1] Top 10 important features of negative class and positive class from<font color='red'> SET 2</font>"
   ]
  },
  {
   "cell_type": "code",
   "execution_count": 159,
   "metadata": {
    "scrolled": true
   },
   "outputs": [
    {
     "name": "stdout",
     "output_type": "stream",
     "text": [
      "\t\tNegative\t\t\t\t\tPositive\n",
      "________________________________________________________________________________________________\n",
      "\t-0.0941\tdisappoint     \t\t\t\t0.1012\tgreat          \n",
      "\t-0.0579\tworst          \t\t\t\t0.0894\tlove           \n",
      "\t-0.0516\tterribl        \t\t\t\t0.0789\tbest           \n",
      "\t-0.0499\thorribl        \t\t\t\t0.0621\tdelici         \n",
      "\t-0.0478\taw             \t\t\t\t0.0621\tgood           \n",
      "\t-0.0455\tstale          \t\t\t\t0.0533\tperfect        \n",
      "\t-0.0454\twont buy       \t\t\t\t0.0512\texcel          \n",
      "\t-0.0446\tthrew          \t\t\t\t0.0454\tnice           \n",
      "\t-0.0443\treturn         \t\t\t\t0.0431\thigh recommend \n",
      "\t-0.0434\twast money     \t\t\t\t0.0420\tfind           \n"
     ]
    }
   ],
   "source": [
    "def show_most_informative_features(vectorizer, clf_tf_l2, n=10):\n",
    "    feature_names = vectorizer.get_feature_names()\n",
    "    coefs_with_fns = sorted(zip(clf_tf_l2.coef_[0], feature_names))\n",
    "    top = zip(coefs_with_fns[:n], coefs_with_fns[:-(n + 1):-1])\n",
    "    print(\"\\t\\tNegative\\t\\t\\t\\t\\tPositive\")\n",
    "    print(\"________________________________________________________________________________________________\")\n",
    "    for (coef_1, fn_1), (coef_2, fn_2) in top:\n",
    "        print(\"\\t%.4f\\t%-15s\\t\\t\\t\\t%.4f\\t%-15s\" % (coef_1, fn_1, coef_2, fn_2))\n",
    "\n",
    "\n",
    "show_most_informative_features(tfidf_vec,clf_tf_l2)\n",
    "#Code Reference:https://stackoverflow.com/questions/11116697/how-to-get-most-informative-features-for-scikit-learn-classifiers"
   ]
  },
  {
   "cell_type": "markdown",
   "metadata": {},
   "source": [
    "## [5.3] Logistic Regression on AVG W2V,<font color='red'> SET 3</font>"
   ]
  },
  {
   "cell_type": "code",
   "execution_count": 91,
   "metadata": {},
   "outputs": [],
   "source": [
    "sc = StandardScaler(with_mean=False)\n",
    "avgw2v_train1 = sc.fit_transform(avgw2v_train)\n",
    "avgw2v_cv1 = sc.transform(avgw2v_cv)\n",
    "avgw2v_test1 = sc.transform(avgw2v_test)"
   ]
  },
  {
   "cell_type": "markdown",
   "metadata": {},
   "source": [
    "### [5.3.1] Applying Logistic Regression with L1 regularization on AVG W2V<font color='red'> SET 3</font>"
   ]
  },
  {
   "cell_type": "markdown",
   "metadata": {},
   "source": [
    "Hypertuning:"
   ]
  },
  {
   "cell_type": "code",
   "execution_count": 96,
   "metadata": {},
   "outputs": [
    {
     "name": "stdout",
     "output_type": "stream",
     "text": [
      "AUC of Model 0.9023043296767194\n",
      "Model with best parameters :\n",
      " LogisticRegression(C=1, class_weight='balanced', dual=False,\n",
      "          fit_intercept=True, intercept_scaling=1, max_iter=100,\n",
      "          multi_class='ovr', n_jobs=1, penalty='l1', random_state=None,\n",
      "          solver='liblinear', tol=0.0001, verbose=0, warm_start=False)\n",
      "The optimal value of C(1/lamda) is :  1\n"
     ]
    }
   ],
   "source": [
    "list_C=[10**-4, 10**-3,10**-2,10**-1,1,10,100,1000]\n",
    "param = {'C' : list_C }\n",
    "model_w2v_l1=GridSearchCV(LogisticRegression(class_weight = 'balanced',penalty='l1'),param ,scoring = 'roc_auc',cv = 3,n_jobs= -1)\n",
    "model_w2v_l1.fit(avgw2v_train1,y_train)\n",
    "\n",
    "print(\"AUC of Model\", model_w2v_l1.score(avgw2v_cv1, y_cv))\n",
    "print(\"Model with best parameters :\\n\",model_w2v_l1.best_estimator_)\n",
    "#Optimal value of C\n",
    "optimal_C_w2v_l1 = model_w2v_l1.best_estimator_.C\n",
    "print(\"The optimal value of C(1/lamda) is : \",optimal_C_w2v_l1)"
   ]
  },
  {
   "cell_type": "markdown",
   "metadata": {},
   "source": [
    "# Graph representation of CV error v/s values of C on CV data of AVGW2V with L1 as follows:"
   ]
  },
  {
   "cell_type": "code",
   "execution_count": 160,
   "metadata": {},
   "outputs": [
    {
     "data": {
      "image/png": "[encoded data removed]",
      "text/plain": [
       "<Figure size 432x288 with 1 Axes>"
      ]
     },
     "metadata": {},
     "output_type": "display_data"
    }
   ],
   "source": [
    "cv_errors = [1-i for i in model_w2v_l1.cv_results_['mean_test_score']]\n",
    "# plotting Cross-Validation Error vs Base learners graph \n",
    "plt.plot(list_C, cv_errors, marker='o')\n",
    "plt.xlabel('C values',size=12)\n",
    "plt.ylabel('CV_Error',size=12)\n",
    "plt.title('Cross-Validation Error VS Values of C Plot\\n',size=16)\n",
    "plt.tight_layout(pad=0.0)\n",
    "plt.grid()\n",
    "plt.show()"
   ]
  },
  {
   "cell_type": "markdown",
   "metadata": {},
   "source": [
    "# Graph representation of train error v/s values of C on train data of AVGW2V with L1 as follows:"
   ]
  },
  {
   "cell_type": "code",
   "execution_count": 161,
   "metadata": {},
   "outputs": [
    {
     "data": {
      "image/png": "[encoded data removed]",
      "text/plain": [
       "<Figure size 432x288 with 1 Axes>"
      ]
     },
     "metadata": {},
     "output_type": "display_data"
    }
   ],
   "source": [
    "# Cross-Validation errors on train data\n",
    "cv_errors1 = [1-i for i in model_w2v_l1.cv_results_['mean_train_score']]\n",
    "# plotting Cross-Validation Error vs tuples of (max_depth,n_estimators) graph \n",
    "plt.plot(list_C, cv_errors1,marker='o')\n",
    "plt.xlabel('C values',size=12)\n",
    "plt.ylabel('train_Error',size=12)\n",
    "plt.title('Train Error VS C values Plot\\n',size=16)\n",
    "plt.tight_layout(pad=0.0)\n",
    "plt.grid()\n",
    "plt.show()"
   ]
  },
  {
   "cell_type": "markdown",
   "metadata": {},
   "source": [
    "### Confusion Matrix of train data"
   ]
  },
  {
   "cell_type": "code",
   "execution_count": 162,
   "metadata": {},
   "outputs": [
    {
     "data": {
      "text/plain": [
       "array([[ 5784,  1146],\n",
       "       [ 8343, 33727]], dtype=int64)"
      ]
     },
     "execution_count": 162,
     "metadata": {},
     "output_type": "execute_result"
    }
   ],
   "source": [
    "pred_train= model_w2v_l1.predict(avgw2v_train1)\n",
    "cm = confusion_matrix(y_train, pred_train)\n",
    "cm"
   ]
  },
  {
   "cell_type": "code",
   "execution_count": 163,
   "metadata": {},
   "outputs": [
    {
     "data": {
      "image/png": "[encoded data removed]",
      "text/plain": [
       "<Figure size 432x288 with 2 Axes>"
      ]
     },
     "metadata": {},
     "output_type": "display_data"
    }
   ],
   "source": [
    "# plot confusion matrix to describe the performance of classifier.\n",
    "import seaborn as sns\n",
    "class_label = [\"negative\", \"positive\"]\n",
    "df_cm = pd.DataFrame(cm, index = class_label, columns = class_label)\n",
    "sns.heatmap(df_cm, annot = True, fmt = \"d\")\n",
    "plt.title(\"Confusion Matrix\")\n",
    "plt.xlabel(\"Predicted Label\")\n",
    "plt.ylabel(\"True Label\")\n",
    "plt.show()"
   ]
  },
  {
   "cell_type": "markdown",
   "metadata": {},
   "source": [
    "# Result on test data of AVGW2V with L1 regularization"
   ]
  },
  {
   "cell_type": "code",
   "execution_count": 164,
   "metadata": {},
   "outputs": [
    {
     "data": {
      "text/plain": [
       "LogisticRegression(C=1, class_weight='balanced', dual=False,\n",
       "          fit_intercept=True, intercept_scaling=1, max_iter=100,\n",
       "          multi_class='ovr', n_jobs=-1, penalty='l1', random_state=None,\n",
       "          solver='liblinear', tol=0.0001, verbose=0, warm_start=False)"
      ]
     },
     "execution_count": 164,
     "metadata": {},
     "output_type": "execute_result"
    }
   ],
   "source": [
    "clf_w2v_l1 = LogisticRegression(penalty = 'l1', C = 1,class_weight = 'balanced', n_jobs=-1)\n",
    "clf_w2v_l1.fit(avgw2v_train1, y_train)"
   ]
  },
  {
   "cell_type": "markdown",
   "metadata": {},
   "source": [
    "# ROC Curve of train data and test data on AVGW2V with L1 as follows:"
   ]
  },
  {
   "cell_type": "code",
   "execution_count": 165,
   "metadata": {},
   "outputs": [
    {
     "data": {
      "image/png": "[encoded data removed]",
      "text/plain": [
       "<Figure size 432x288 with 1 Axes>"
      ]
     },
     "metadata": {},
     "output_type": "display_data"
    }
   ],
   "source": [
    "train_fpr, train_tpr, thresholds = roc_curve(y_train, clf_w2v_l1.predict_proba(avgw2v_train1)[:,1])\n",
    "test_fpr, test_tpr, thresholds = roc_curve(y_test, clf_w2v_l1.predict_proba(avgw2v_test1)[:,1])\n",
    "\n",
    "plt.plot(train_fpr, train_tpr, label=\"train AUC =\"+str(auc(train_fpr, train_tpr)))\n",
    "#plt.scatter(train_fpr,train_tpr, label='train AUC')\n",
    "plt.plot(test_fpr, test_tpr, label=\"test AUC =\"+str(auc(test_fpr, test_tpr)))\n",
    "plt.plot([0,1], [0,1])\n",
    "plt.legend()\n",
    "plt.ylabel('True Positive Rate')\n",
    "plt.xlabel('False Positive Rate')\n",
    "plt.title(\"ROC Curve\")\n",
    "plt.show()"
   ]
  },
  {
   "cell_type": "code",
   "execution_count": 166,
   "metadata": {},
   "outputs": [
    {
     "name": "stdout",
     "output_type": "stream",
     "text": [
      "AUC value on train data: 0.8964108743381384\n",
      "AUC value on test data: 0.8950949171921908\n"
     ]
    }
   ],
   "source": [
    "pred = clf_w2v_l1.predict(avgw2v_test1)\n",
    "pred_prob = clf_w2v_l1.predict_proba(avgw2v_test1)[:,1]\n",
    "pred_prob_train= clf_w2v_l1.predict_proba(avgw2v_train1)[:,1]\n",
    "print(\"AUC value on train data:\",roc_auc_score(y_train, pred_prob_train))\n",
    "print(\"AUC value on test data:\",roc_auc_score(y_test, pred_prob))"
   ]
  },
  {
   "cell_type": "markdown",
   "metadata": {},
   "source": [
    "### Confusion Matrix of test data"
   ]
  },
  {
   "cell_type": "code",
   "execution_count": 167,
   "metadata": {},
   "outputs": [
    {
     "data": {
      "text/plain": [
       "array([[ 4404,   745],\n",
       "       [ 5576, 19275]], dtype=int64)"
      ]
     },
     "execution_count": 167,
     "metadata": {},
     "output_type": "execute_result"
    }
   ],
   "source": [
    "cm = confusion_matrix(y_test, pred)\n",
    "cm"
   ]
  },
  {
   "cell_type": "code",
   "execution_count": 168,
   "metadata": {},
   "outputs": [
    {
     "data": {
      "image/png": "[encoded data removed]",
      "text/plain": [
       "<Figure size 432x288 with 2 Axes>"
      ]
     },
     "metadata": {},
     "output_type": "display_data"
    }
   ],
   "source": [
    "# plot confusion matrix to describe the performance of classifier.\n",
    "class_label = [\"negative\", \"positive\"]\n",
    "df_cm = pd.DataFrame(cm, index = class_label, columns = class_label)\n",
    "sns.heatmap(df_cm, annot = True, fmt = \"d\")\n",
    "plt.title(\"Confusion Matrix\")\n",
    "plt.xlabel(\"Predicted Label\")\n",
    "plt.ylabel(\"True Label\")\n",
    "plt.show()"
   ]
  },
  {
   "cell_type": "code",
   "execution_count": 169,
   "metadata": {},
   "outputs": [
    {
     "name": "stdout",
     "output_type": "stream",
     "text": [
      "             precision    recall  f1-score   support\n",
      "\n",
      "          0       0.44      0.86      0.58      5149\n",
      "          1       0.96      0.78      0.86     24851\n",
      "\n",
      "avg / total       0.87      0.79      0.81     30000\n",
      "\n"
     ]
    }
   ],
   "source": [
    "# To show main classification report\n",
    "from sklearn.metrics import classification_report\n",
    "print(classification_report(y_test, pred))"
   ]
  },
  {
   "cell_type": "markdown",
   "metadata": {},
   "source": [
    "### [5.3.2] Applying Logistic Regression with L2 regularization on AVG W2V,<font color='red'> SET 3</font>"
   ]
  },
  {
   "cell_type": "markdown",
   "metadata": {},
   "source": [
    "Hypertuning:"
   ]
  },
  {
   "cell_type": "code",
   "execution_count": 97,
   "metadata": {},
   "outputs": [
    {
     "name": "stdout",
     "output_type": "stream",
     "text": [
      "AUC of Model 0.9023058212622763\n",
      "Model with best parameters :\n",
      " LogisticRegression(C=1, class_weight='balanced', dual=False,\n",
      "          fit_intercept=True, intercept_scaling=1, max_iter=100,\n",
      "          multi_class='ovr', n_jobs=1, penalty='l2', random_state=None,\n",
      "          solver='liblinear', tol=0.0001, verbose=0, warm_start=False)\n",
      "The optimal value of C(1/lamda) is :  1\n"
     ]
    }
   ],
   "source": [
    "list_C=[10**-4, 10**-3,10**-2,10**-1,1,10,100,1000]\n",
    "param = {'C' : list_C }\n",
    "model_w2v_l2=GridSearchCV(LogisticRegression(class_weight = 'balanced',penalty='l2'),param ,scoring = 'roc_auc',cv = 3,n_jobs= -1)\n",
    "model_w2v_l2.fit(avgw2v_train1,y_train)\n",
    "\n",
    "print(\"AUC of Model\", model_w2v_l2.score(avgw2v_cv1, y_cv))\n",
    "print(\"Model with best parameters :\\n\",model_w2v_l2.best_estimator_)\n",
    "#Optimal value of C\n",
    "optimal_C_w2v_l2 = model_w2v_l2.best_estimator_.C\n",
    "print(\"The optimal value of C(1/lamda) is : \",optimal_C_w2v_l2)"
   ]
  },
  {
   "cell_type": "markdown",
   "metadata": {},
   "source": [
    "# Graph representation of CV error v/s values of C on CV data of AVGW2V with L2 as follows:"
   ]
  },
  {
   "cell_type": "code",
   "execution_count": 170,
   "metadata": {},
   "outputs": [
    {
     "data": {
      "image/png": "[encoded data removed]",
      "text/plain": [
       "<Figure size 432x288 with 1 Axes>"
      ]
     },
     "metadata": {},
     "output_type": "display_data"
    }
   ],
   "source": [
    "cv_errors = [1-i for i in model_w2v_l2.cv_results_['mean_test_score']]\n",
    "# plotting Cross-Validation Error vs Base learners graph \n",
    "plt.plot(list_C, cv_errors, marker='o')\n",
    "plt.xlabel('C values',size=12)\n",
    "plt.ylabel('CV_Error',size=12)\n",
    "plt.title('Cross-Validation Error VS Values of C Plot\\n',size=16)\n",
    "plt.tight_layout(pad=0.0)\n",
    "plt.grid()\n",
    "plt.show()"
   ]
  },
  {
   "cell_type": "code",
   "execution_count": 171,
   "metadata": {},
   "outputs": [
    {
     "data": {
      "image/png": "[encoded data removed]",
      "text/plain": [
       "<Figure size 432x288 with 1 Axes>"
      ]
     },
     "metadata": {},
     "output_type": "display_data"
    }
   ],
   "source": [
    "# Cross-Validation errors on train data\n",
    "cv_errors1 = [1-i for i in model_w2v_l2.cv_results_['mean_train_score']]\n",
    "# plotting Cross-Validation Error vs tuples of (max_depth,n_estimators) graph \n",
    "plt.plot(list_C, cv_errors1,marker='o')\n",
    "plt.xlabel('C values',size=12)\n",
    "plt.ylabel('train_Error',size=12)\n",
    "plt.title('Train Error VS C values Plot\\n',size=16)\n",
    "plt.tight_layout(pad=0.0)\n",
    "plt.grid()\n",
    "plt.show()"
   ]
  },
  {
   "cell_type": "markdown",
   "metadata": {},
   "source": [
    "### Confusion Matrix of train data"
   ]
  },
  {
   "cell_type": "code",
   "execution_count": 172,
   "metadata": {},
   "outputs": [
    {
     "data": {
      "text/plain": [
       "array([[ 5785,  1145],\n",
       "       [ 8338, 33732]], dtype=int64)"
      ]
     },
     "execution_count": 172,
     "metadata": {},
     "output_type": "execute_result"
    }
   ],
   "source": [
    "pred_train= model_w2v_l2.predict(avgw2v_train1)\n",
    "cm = confusion_matrix(y_train, pred_train)\n",
    "cm"
   ]
  },
  {
   "cell_type": "code",
   "execution_count": 173,
   "metadata": {},
   "outputs": [
    {
     "data": {
      "image/png": "[encoded data removed]",
      "text/plain": [
       "<Figure size 432x288 with 2 Axes>"
      ]
     },
     "metadata": {},
     "output_type": "display_data"
    }
   ],
   "source": [
    "# plot confusion matrix to describe the performance of classifier.\n",
    "import seaborn as sns\n",
    "class_label = [\"negative\", \"positive\"]\n",
    "df_cm = pd.DataFrame(cm, index = class_label, columns = class_label)\n",
    "sns.heatmap(df_cm, annot = True, fmt = \"d\")\n",
    "plt.title(\"Confusion Matrix\")\n",
    "plt.xlabel(\"Predicted Label\")\n",
    "plt.ylabel(\"True Label\")\n",
    "plt.show()"
   ]
  },
  {
   "cell_type": "markdown",
   "metadata": {},
   "source": [
    "# Result on test data of AVGW2V with L2 regularization"
   ]
  },
  {
   "cell_type": "code",
   "execution_count": 174,
   "metadata": {},
   "outputs": [
    {
     "data": {
      "text/plain": [
       "LogisticRegression(C=1, class_weight='balanced', dual=False,\n",
       "          fit_intercept=True, intercept_scaling=1, max_iter=100,\n",
       "          multi_class='ovr', n_jobs=-1, penalty='l2', random_state=None,\n",
       "          solver='liblinear', tol=0.0001, verbose=0, warm_start=False)"
      ]
     },
     "execution_count": 174,
     "metadata": {},
     "output_type": "execute_result"
    }
   ],
   "source": [
    "clf_w2v_l2 = LogisticRegression(penalty = 'l2', C = 1,class_weight = 'balanced', n_jobs=-1)\n",
    "clf_w2v_l2.fit(avgw2v_train1, y_train)"
   ]
  },
  {
   "cell_type": "markdown",
   "metadata": {},
   "source": [
    "# ROC Curve of train data and test data on AVGW2V with L2 as follows:"
   ]
  },
  {
   "cell_type": "code",
   "execution_count": 175,
   "metadata": {},
   "outputs": [
    {
     "data": {
      "image/png": "[encoded data removed]",
      "text/plain": [
       "<Figure size 432x288 with 1 Axes>"
      ]
     },
     "metadata": {},
     "output_type": "display_data"
    }
   ],
   "source": [
    "train_fpr, train_tpr, thresholds = roc_curve(y_train, clf_w2v_l2.predict_proba(avgw2v_train1)[:,1])\n",
    "test_fpr, test_tpr, thresholds = roc_curve(y_test, clf_w2v_l2.predict_proba(avgw2v_test1)[:,1])\n",
    "\n",
    "plt.plot(train_fpr, train_tpr, label=\"train AUC =\"+str(auc(train_fpr, train_tpr)))\n",
    "#plt.scatter(train_fpr,train_tpr, label='train AUC')\n",
    "plt.plot(test_fpr, test_tpr, label=\"test AUC =\"+str(auc(test_fpr, test_tpr)))\n",
    "plt.plot([0,1], [0,1])\n",
    "plt.legend()\n",
    "plt.ylabel('True Positive Rate')\n",
    "plt.xlabel('False Positive Rate')\n",
    "plt.title(\"ROC Curve\")\n",
    "plt.show()"
   ]
  },
  {
   "cell_type": "code",
   "execution_count": 176,
   "metadata": {},
   "outputs": [
    {
     "name": "stdout",
     "output_type": "stream",
     "text": [
      "AUC value on train data: 0.8964110081081793\n",
      "AUC value on test data: 0.8951078980344136\n"
     ]
    }
   ],
   "source": [
    "pred = clf_w2v_l2.predict(avgw2v_test1)\n",
    "pred_prob = clf_w2v_l2.predict_proba(avgw2v_test1)[:,1]\n",
    "pred_prob_train= clf_w2v_l2.predict_proba(avgw2v_train1)[:,1]\n",
    "print(\"AUC value on train data:\",roc_auc_score(y_train, pred_prob_train))\n",
    "print(\"AUC value on test data:\",roc_auc_score(y_test, pred_prob))"
   ]
  },
  {
   "cell_type": "markdown",
   "metadata": {},
   "source": [
    "### Confusion Matrix of test data"
   ]
  },
  {
   "cell_type": "code",
   "execution_count": 177,
   "metadata": {},
   "outputs": [
    {
     "data": {
      "text/plain": [
       "array([[ 4404,   745],\n",
       "       [ 5577, 19274]], dtype=int64)"
      ]
     },
     "execution_count": 177,
     "metadata": {},
     "output_type": "execute_result"
    }
   ],
   "source": [
    "cm = confusion_matrix(y_test, pred)\n",
    "cm"
   ]
  },
  {
   "cell_type": "code",
   "execution_count": 178,
   "metadata": {},
   "outputs": [
    {
     "data": {
      "image/png": "[encoded data removed]",
      "text/plain": [
       "<Figure size 432x288 with 2 Axes>"
      ]
     },
     "metadata": {},
     "output_type": "display_data"
    }
   ],
   "source": [
    "# plot confusion matrix to describe the performance of classifier.\n",
    "class_label = [\"negative\", \"positive\"]\n",
    "df_cm = pd.DataFrame(cm, index = class_label, columns = class_label)\n",
    "sns.heatmap(df_cm, annot = True, fmt = \"d\")\n",
    "plt.title(\"Confusion Matrix\")\n",
    "plt.xlabel(\"Predicted Label\")\n",
    "plt.ylabel(\"True Label\")\n",
    "plt.show()"
   ]
  },
  {
   "cell_type": "code",
   "execution_count": 179,
   "metadata": {},
   "outputs": [
    {
     "name": "stdout",
     "output_type": "stream",
     "text": [
      "             precision    recall  f1-score   support\n",
      "\n",
      "          0       0.44      0.86      0.58      5149\n",
      "          1       0.96      0.78      0.86     24851\n",
      "\n",
      "avg / total       0.87      0.79      0.81     30000\n",
      "\n"
     ]
    }
   ],
   "source": [
    "# To show main classification report\n",
    "from sklearn.metrics import classification_report\n",
    "print(classification_report(y_test, pred))"
   ]
  },
  {
   "cell_type": "markdown",
   "metadata": {},
   "source": [
    "## [5.4] Logistic Regression on TFIDF W2V,<font color='red'> SET 4</font>"
   ]
  },
  {
   "cell_type": "code",
   "execution_count": 92,
   "metadata": {},
   "outputs": [],
   "source": [
    "sc = StandardScaler(with_mean=False)\n",
    "tfw2v_train1 = sc.fit_transform(tfw2v_train)\n",
    "tfw2v_cv1 = sc.transform(tfw2v_cv)\n",
    "tfw2v_test1 = sc.transform(tfw2v_test)"
   ]
  },
  {
   "cell_type": "markdown",
   "metadata": {},
   "source": [
    "### [5.4.1] Applying Logistic Regression with L1 regularization on TFIDF W2V,<font color='red'> SET 4</font>"
   ]
  },
  {
   "cell_type": "markdown",
   "metadata": {},
   "source": [
    "Hypertuning:"
   ]
  },
  {
   "cell_type": "code",
   "execution_count": 98,
   "metadata": {},
   "outputs": [
    {
     "name": "stdout",
     "output_type": "stream",
     "text": [
      "AUC of Model 0.508407153586592\n",
      "Model with best parameters :\n",
      " LogisticRegression(C=0.01, class_weight='balanced', dual=False,\n",
      "          fit_intercept=True, intercept_scaling=1, max_iter=100,\n",
      "          multi_class='ovr', n_jobs=1, penalty='l1', random_state=None,\n",
      "          solver='liblinear', tol=0.0001, verbose=0, warm_start=False)\n",
      "The optimal value of C(1/lamda) is :  0.01\n"
     ]
    }
   ],
   "source": [
    "list_C=[10**-4, 10**-3,10**-2,10**-1,1,10,100,1000]\n",
    "param = {'C' : list_C }\n",
    "model_tfw2v_l1=GridSearchCV(LogisticRegression(class_weight = 'balanced',penalty='l1'),param ,scoring = 'roc_auc',cv = 3,n_jobs= -1)\n",
    "model_tfw2v_l1.fit(tfw2v_train1,y_train)\n",
    "\n",
    "print(\"AUC of Model\", model_tfw2v_l1.score(tfw2v_cv1, y_cv))\n",
    "print(\"Model with best parameters :\\n\",model_tfw2v_l1.best_estimator_)\n",
    "#Optimal value of C\n",
    "optimal_C_tfw2v_l1 = model_tfw2v_l1.best_estimator_.C\n",
    "print(\"The optimal value of C(1/lamda) is : \",optimal_C_tfw2v_l1)"
   ]
  },
  {
   "cell_type": "markdown",
   "metadata": {},
   "source": [
    "# Graph representation of CV error v/s values of C on CV data of TFIDFW2V with L1 as follows: "
   ]
  },
  {
   "cell_type": "code",
   "execution_count": 180,
   "metadata": {},
   "outputs": [
    {
     "data": {
      "image/png": "[encoded data removed]",
      "text/plain": [
       "<Figure size 432x288 with 1 Axes>"
      ]
     },
     "metadata": {},
     "output_type": "display_data"
    }
   ],
   "source": [
    "cv_errors = [1-i for i in model_tfw2v_l1.cv_results_['mean_test_score']]\n",
    "# plotting Cross-Validation Error vs Base learners graph \n",
    "plt.plot(list_C, cv_errors, marker='o')\n",
    "plt.xlabel('C values',size=12)\n",
    "plt.ylabel('CV_Error',size=12)\n",
    "plt.title('Cross-Validation Error VS Values of C Plot\\n',size=16)\n",
    "plt.tight_layout(pad=0.0)\n",
    "plt.grid()\n",
    "plt.show()"
   ]
  },
  {
   "cell_type": "markdown",
   "metadata": {},
   "source": [
    "# Graph representation of train error v/s values of C on train data of TFIDFW2V with L1 as follows:"
   ]
  },
  {
   "cell_type": "code",
   "execution_count": 181,
   "metadata": {},
   "outputs": [
    {
     "data": {
      "image/png": "[encoded data removed]",
      "text/plain": [
       "<Figure size 432x288 with 1 Axes>"
      ]
     },
     "metadata": {},
     "output_type": "display_data"
    }
   ],
   "source": [
    "# Cross-Validation errors on train data\n",
    "cv_errors1 = [1-i for i in model_tfw2v_l1.cv_results_['mean_train_score']]\n",
    "# plotting Cross-Validation Error vs tuples of (max_depth,n_estimators) graph \n",
    "plt.plot(list_C, cv_errors1,marker='o')\n",
    "plt.xlabel('C values',size=12)\n",
    "plt.ylabel('train_Error',size=12)\n",
    "plt.title('Train Error VS C values Plot\\n',size=16)\n",
    "plt.tight_layout(pad=0.0)\n",
    "plt.grid()\n",
    "plt.show()"
   ]
  },
  {
   "cell_type": "markdown",
   "metadata": {},
   "source": [
    "### Confusion Matrix of train data"
   ]
  },
  {
   "cell_type": "code",
   "execution_count": 182,
   "metadata": {},
   "outputs": [
    {
     "data": {
      "text/plain": [
       "array([[ 6753,   177],\n",
       "       [40581,  1489]], dtype=int64)"
      ]
     },
     "execution_count": 182,
     "metadata": {},
     "output_type": "execute_result"
    }
   ],
   "source": [
    "pred_train= model_tfw2v_l1.predict(tfw2v_train1)\n",
    "cm = confusion_matrix(y_train, pred_train)\n",
    "cm"
   ]
  },
  {
   "cell_type": "code",
   "execution_count": 183,
   "metadata": {},
   "outputs": [
    {
     "data": {
      "image/png": "[encoded data removed]",
      "text/plain": [
       "<Figure size 432x288 with 2 Axes>"
      ]
     },
     "metadata": {},
     "output_type": "display_data"
    }
   ],
   "source": [
    "# plot confusion matrix to describe the performance of classifier.\n",
    "import seaborn as sns\n",
    "class_label = [\"negative\", \"positive\"]\n",
    "df_cm = pd.DataFrame(cm, index = class_label, columns = class_label)\n",
    "sns.heatmap(df_cm, annot = True, fmt = \"d\")\n",
    "plt.title(\"Confusion Matrix\")\n",
    "plt.xlabel(\"Predicted Label\")\n",
    "plt.ylabel(\"True Label\")\n",
    "plt.show()"
   ]
  },
  {
   "cell_type": "markdown",
   "metadata": {},
   "source": [
    "# Result on test data of TFIDF-W2V with L1 regularization"
   ]
  },
  {
   "cell_type": "code",
   "execution_count": 184,
   "metadata": {},
   "outputs": [
    {
     "data": {
      "text/plain": [
       "LogisticRegression(C=0.01, class_weight='balanced', dual=False,\n",
       "          fit_intercept=True, intercept_scaling=1, max_iter=100,\n",
       "          multi_class='ovr', n_jobs=-1, penalty='l1', random_state=None,\n",
       "          solver='liblinear', tol=0.0001, verbose=0, warm_start=False)"
      ]
     },
     "execution_count": 184,
     "metadata": {},
     "output_type": "execute_result"
    }
   ],
   "source": [
    "clf_tfw2v_l1 = LogisticRegression(penalty = 'l1', C = 0.01,class_weight = 'balanced', n_jobs=-1)\n",
    "clf_tfw2v_l1.fit(tfw2v_train1, y_train)"
   ]
  },
  {
   "cell_type": "markdown",
   "metadata": {},
   "source": [
    "# ROC Curve of train data and test data on TFIDFW2V with L1 as follows:"
   ]
  },
  {
   "cell_type": "code",
   "execution_count": 186,
   "metadata": {},
   "outputs": [
    {
     "data": {
      "image/png": "[encoded data removed]",
      "text/plain": [
       "<Figure size 432x288 with 1 Axes>"
      ]
     },
     "metadata": {},
     "output_type": "display_data"
    }
   ],
   "source": [
    "train_fpr, train_tpr, thresholds = roc_curve(y_train, clf_tfw2v_l1.predict_proba(tfw2v_train1)[:,1])\n",
    "test_fpr, test_tpr, thresholds = roc_curve(y_test, clf_tfw2v_l1.predict_proba(tfw2v_test1)[:,1])\n",
    "\n",
    "plt.plot(train_fpr, train_tpr, label=\"train AUC =\"+str(auc(train_fpr, train_tpr)))\n",
    "#plt.scatter(train_fpr,train_tpr, label='train AUC')\n",
    "plt.plot(test_fpr, test_tpr, label=\"test AUC =\"+str(auc(test_fpr, test_tpr)))\n",
    "plt.plot([0,1], [0,1], 'r--')\n",
    "plt.legend()\n",
    "plt.ylabel('True Positive Rate')\n",
    "plt.xlabel('False Positive Rate')\n",
    "plt.title(\"ROC Curve\")\n",
    "plt.show()"
   ]
  },
  {
   "cell_type": "code",
   "execution_count": 187,
   "metadata": {},
   "outputs": [
    {
     "name": "stdout",
     "output_type": "stream",
     "text": [
      "AUC value on train data: 0.5115640444651617\n",
      "AUC value on test data: 0.7796477219805883\n"
     ]
    }
   ],
   "source": [
    "pred = clf_tfw2v_l1.predict(tfw2v_test1)\n",
    "pred_prob = clf_tfw2v_l1.predict_proba(tfw2v_test1)[:,1]\n",
    "pred_prob_train= clf_tfw2v_l1.predict_proba(tfw2v_train1)[:,1]\n",
    "print(\"AUC value on train data:\",roc_auc_score(y_train, pred_prob_train))\n",
    "print(\"AUC value on test data:\",roc_auc_score(y_test, pred_prob))"
   ]
  },
  {
   "cell_type": "markdown",
   "metadata": {},
   "source": [
    "### Confusion Matrix of test data"
   ]
  },
  {
   "cell_type": "code",
   "execution_count": 188,
   "metadata": {},
   "outputs": [
    {
     "data": {
      "text/plain": [
       "array([[ 3599,  1550],\n",
       "       [ 6852, 17999]], dtype=int64)"
      ]
     },
     "execution_count": 188,
     "metadata": {},
     "output_type": "execute_result"
    }
   ],
   "source": [
    "cm = confusion_matrix(y_test, pred)\n",
    "cm"
   ]
  },
  {
   "cell_type": "code",
   "execution_count": 189,
   "metadata": {},
   "outputs": [
    {
     "data": {
      "image/png": "[encoded data removed]",
      "text/plain": [
       "<Figure size 432x288 with 2 Axes>"
      ]
     },
     "metadata": {},
     "output_type": "display_data"
    }
   ],
   "source": [
    "# plot confusion matrix to describe the performance of classifier.\n",
    "class_label = [\"negative\", \"positive\"]\n",
    "df_cm = pd.DataFrame(cm, index = class_label, columns = class_label)\n",
    "sns.heatmap(df_cm, annot = True, fmt = \"d\")\n",
    "plt.title(\"Confusion Matrix\")\n",
    "plt.xlabel(\"Predicted Label\")\n",
    "plt.ylabel(\"True Label\")\n",
    "plt.show()"
   ]
  },
  {
   "cell_type": "code",
   "execution_count": 190,
   "metadata": {},
   "outputs": [
    {
     "name": "stdout",
     "output_type": "stream",
     "text": [
      "             precision    recall  f1-score   support\n",
      "\n",
      "          0       0.34      0.70      0.46      5149\n",
      "          1       0.92      0.72      0.81     24851\n",
      "\n",
      "avg / total       0.82      0.72      0.75     30000\n",
      "\n"
     ]
    }
   ],
   "source": [
    "# To show main classification report\n",
    "from sklearn.metrics import classification_report\n",
    "print(classification_report(y_test, pred))"
   ]
  },
  {
   "cell_type": "markdown",
   "metadata": {},
   "source": [
    "### [5.4.2] Applying Logistic Regression with L2 regularization on TFIDF W2V,<font color='red'> SET 4</font>"
   ]
  },
  {
   "cell_type": "markdown",
   "metadata": {},
   "source": [
    "Hypertuning:"
   ]
  },
  {
   "cell_type": "code",
   "execution_count": 99,
   "metadata": {},
   "outputs": [
    {
     "name": "stdout",
     "output_type": "stream",
     "text": [
      "AUC of Model 0.5085891270245326\n",
      "Model with best parameters :\n",
      " LogisticRegression(C=0.0001, class_weight='balanced', dual=False,\n",
      "          fit_intercept=True, intercept_scaling=1, max_iter=100,\n",
      "          multi_class='ovr', n_jobs=1, penalty='l2', random_state=None,\n",
      "          solver='liblinear', tol=0.0001, verbose=0, warm_start=False)\n",
      "The optimal value of C(1/lamda) is :  0.0001\n"
     ]
    }
   ],
   "source": [
    "list_C=[10**-4, 10**-3,10**-2,10**-1,1,10,100,1000]\n",
    "param = {'C' : list_C }\n",
    "model_tfw2v_l2=GridSearchCV(LogisticRegression(class_weight = 'balanced',penalty='l2'),param ,scoring = 'roc_auc',cv = 3,n_jobs= -1)\n",
    "model_tfw2v_l2.fit(tfw2v_train1,y_train)\n",
    "\n",
    "print(\"AUC of Model\", model_tfw2v_l2.score(tfw2v_cv1, y_cv))\n",
    "print(\"Model with best parameters :\\n\",model_tfw2v_l2.best_estimator_)\n",
    "#Optimal value of C\n",
    "optimal_C_tfw2v_l2 = model_tfw2v_l2.best_estimator_.C\n",
    "print(\"The optimal value of C(1/lamda) is : \",optimal_C_tfw2v_l2)"
   ]
  },
  {
   "cell_type": "markdown",
   "metadata": {},
   "source": [
    "# Graph representation of CV error v/s values of C on CV data of TFIDFW2V with L2 as follows:"
   ]
  },
  {
   "cell_type": "code",
   "execution_count": 191,
   "metadata": {},
   "outputs": [
    {
     "data": {
      "image/png": "[encoded data removed]",
      "text/plain": [
       "<Figure size 432x288 with 1 Axes>"
      ]
     },
     "metadata": {},
     "output_type": "display_data"
    }
   ],
   "source": [
    "cv_errors = [1-i for i in model_tfw2v_l2.cv_results_['mean_test_score']]\n",
    "# plotting Cross-Validation Error vs Base learners graph \n",
    "plt.plot(list_C, cv_errors, marker='o')\n",
    "plt.xlabel('C values',size=12)\n",
    "plt.ylabel('CV_Error',size=12)\n",
    "plt.title('Cross-Validation Error VS Values of C Plot\\n',size=16)\n",
    "plt.tight_layout(pad=0.0)\n",
    "plt.grid()\n",
    "plt.show()"
   ]
  },
  {
   "cell_type": "markdown",
   "metadata": {},
   "source": [
    "# Graph representation of train error v/s values of C on train data of TFIDFW2V with L2 as follows:"
   ]
  },
  {
   "cell_type": "code",
   "execution_count": 192,
   "metadata": {},
   "outputs": [
    {
     "data": {
      "image/png": "[encoded data removed]",
      "text/plain": [
       "<Figure size 432x288 with 1 Axes>"
      ]
     },
     "metadata": {},
     "output_type": "display_data"
    }
   ],
   "source": [
    "# Cross-Validation errors on train data\n",
    "cv_errors1 = [1-i for i in model_tfw2v_l2.cv_results_['mean_train_score']]\n",
    "# plotting Cross-Validation Error vs tuples of (max_depth,n_estimators) graph \n",
    "plt.plot(list_C, cv_errors1,marker='o')\n",
    "plt.xlabel('C values',size=12)\n",
    "plt.ylabel('train_Error',size=12)\n",
    "plt.title('Train Error VS C values Plot\\n',size=16)\n",
    "plt.tight_layout(pad=0.0)\n",
    "plt.grid()\n",
    "plt.show()"
   ]
  },
  {
   "cell_type": "markdown",
   "metadata": {},
   "source": [
    "### Confusion Matrix of train data"
   ]
  },
  {
   "cell_type": "code",
   "execution_count": 193,
   "metadata": {},
   "outputs": [
    {
     "data": {
      "text/plain": [
       "array([[  337,  6593],\n",
       "       [ 1373, 40697]], dtype=int64)"
      ]
     },
     "execution_count": 193,
     "metadata": {},
     "output_type": "execute_result"
    }
   ],
   "source": [
    "pred_train= model_tfw2v_l2.predict(tfw2v_train1)\n",
    "cm = confusion_matrix(y_train, pred_train)\n",
    "cm"
   ]
  },
  {
   "cell_type": "code",
   "execution_count": 194,
   "metadata": {},
   "outputs": [
    {
     "data": {
      "image/png": "[encoded data removed]",
      "text/plain": [
       "<Figure size 432x288 with 2 Axes>"
      ]
     },
     "metadata": {},
     "output_type": "display_data"
    }
   ],
   "source": [
    "# plot confusion matrix to describe the performance of classifier.\n",
    "class_label = [\"negative\", \"positive\"]\n",
    "df_cm = pd.DataFrame(cm, index = class_label, columns = class_label)\n",
    "sns.heatmap(df_cm, annot = True, fmt = \"d\")\n",
    "plt.title(\"Confusion Matrix\")\n",
    "plt.xlabel(\"Predicted Label\")\n",
    "plt.ylabel(\"True Label\")\n",
    "plt.show()"
   ]
  },
  {
   "cell_type": "markdown",
   "metadata": {},
   "source": [
    "# Result on test data of TFIDF-W2V with L2 regularization"
   ]
  },
  {
   "cell_type": "code",
   "execution_count": 195,
   "metadata": {},
   "outputs": [
    {
     "data": {
      "text/plain": [
       "LogisticRegression(C=0.0001, class_weight='balanced', dual=False,\n",
       "          fit_intercept=True, intercept_scaling=1, max_iter=100,\n",
       "          multi_class='ovr', n_jobs=-1, penalty='l2', random_state=None,\n",
       "          solver='liblinear', tol=0.0001, verbose=0, warm_start=False)"
      ]
     },
     "execution_count": 195,
     "metadata": {},
     "output_type": "execute_result"
    }
   ],
   "source": [
    "clf_tfw2v_l2 = LogisticRegression(penalty = 'l2', C = 0.0001,class_weight = 'balanced', n_jobs=-1)\n",
    "clf_tfw2v_l2.fit(tfw2v_train1, y_train)"
   ]
  },
  {
   "cell_type": "markdown",
   "metadata": {},
   "source": [
    "# ROC Curve of train data and test data on TFIDFW2V with L2 as follows:"
   ]
  },
  {
   "cell_type": "code",
   "execution_count": 197,
   "metadata": {},
   "outputs": [
    {
     "data": {
      "image/png": "[encoded data removed]",
      "text/plain": [
       "<Figure size 432x288 with 1 Axes>"
      ]
     },
     "metadata": {},
     "output_type": "display_data"
    }
   ],
   "source": [
    "train_fpr, train_tpr, thresholds = roc_curve(y_train, clf_tfw2v_l2.predict_proba(tfw2v_train1)[:,1])\n",
    "test_fpr, test_tpr, thresholds = roc_curve(y_test, clf_tfw2v_l2.predict_proba(tfw2v_test1)[:,1])\n",
    "\n",
    "plt.plot(train_fpr, train_tpr, label=\"train AUC =\"+str(auc(train_fpr, train_tpr)))\n",
    "#plt.scatter(train_fpr,train_tpr, label='train AUC')\n",
    "plt.plot(test_fpr, test_tpr, label=\"test AUC =\"+str(auc(test_fpr, test_tpr)))\n",
    "plt.plot([0,1], [0,1], 'r--')\n",
    "plt.legend()\n",
    "plt.ylabel('True Positive Rate')\n",
    "plt.xlabel('False Positive Rate')\n",
    "plt.title(\"ROC Curve\")\n",
    "plt.show()"
   ]
  },
  {
   "cell_type": "code",
   "execution_count": 198,
   "metadata": {},
   "outputs": [
    {
     "name": "stdout",
     "output_type": "stream",
     "text": [
      "AUC value on train data: 0.5138328186616754\n",
      "AUC value on test data: 0.7868680634308192\n"
     ]
    }
   ],
   "source": [
    "pred = clf_tfw2v_l2.predict(tfw2v_test1)\n",
    "pred_prob = clf_tfw2v_l2.predict_proba(tfw2v_test1)[:,1]\n",
    "pred_prob_train= clf_tfw2v_l2.predict_proba(tfw2v_train1)[:,1]\n",
    "print(\"AUC value on train data:\",roc_auc_score(y_train, pred_prob_train))\n",
    "print(\"AUC value on test data:\",roc_auc_score(y_test, pred_prob))"
   ]
  },
  {
   "cell_type": "markdown",
   "metadata": {},
   "source": [
    "### Confusion Matrix of test data"
   ]
  },
  {
   "cell_type": "code",
   "execution_count": 199,
   "metadata": {},
   "outputs": [
    {
     "data": {
      "text/plain": [
       "array([[ 3854,  1295],\n",
       "       [ 7687, 17164]], dtype=int64)"
      ]
     },
     "execution_count": 199,
     "metadata": {},
     "output_type": "execute_result"
    }
   ],
   "source": [
    "cm = confusion_matrix(y_test, pred)\n",
    "cm"
   ]
  },
  {
   "cell_type": "code",
   "execution_count": 200,
   "metadata": {},
   "outputs": [
    {
     "data": {
      "image/png": "[encoded data removed]",
      "text/plain": [
       "<Figure size 432x288 with 2 Axes>"
      ]
     },
     "metadata": {},
     "output_type": "display_data"
    }
   ],
   "source": [
    "# plot confusion matrix to describe the performance of classifier.\n",
    "class_label = [\"negative\", \"positive\"]\n",
    "df_cm = pd.DataFrame(cm, index = class_label, columns = class_label)\n",
    "sns.heatmap(df_cm, annot = True, fmt = \"d\")\n",
    "plt.title(\"Confusion Matrix\")\n",
    "plt.xlabel(\"Predicted Label\")\n",
    "plt.ylabel(\"True Label\")\n",
    "plt.show()"
   ]
  },
  {
   "cell_type": "code",
   "execution_count": 201,
   "metadata": {},
   "outputs": [
    {
     "name": "stdout",
     "output_type": "stream",
     "text": [
      "             precision    recall  f1-score   support\n",
      "\n",
      "          0       0.33      0.75      0.46      5149\n",
      "          1       0.93      0.69      0.79     24851\n",
      "\n",
      "avg / total       0.83      0.70      0.74     30000\n",
      "\n"
     ]
    }
   ],
   "source": [
    "# To show main classification report\n",
    "print(classification_report(y_test, pred))"
   ]
  },
  {
   "cell_type": "markdown",
   "metadata": {},
   "source": [
    "# [6] Conclusions"
   ]
  },
  {
   "cell_type": "code",
   "execution_count": 203,
   "metadata": {},
   "outputs": [
    {
     "name": "stdout",
     "output_type": "stream",
     "text": [
      "+------------+---------------------+-------------+-----------+-----------+----------+\n",
      "| Vectorizer |        Model        | Regularizer | Optimal C | Train AUC | Test AUC |\n",
      "+------------+---------------------+-------------+-----------+-----------+----------+\n",
      "|    BOW     | Logistic Regression |      L1     |    0.01   |   0.9763  |  0.9319  |\n",
      "|    BOW     | Logistic Regression |      L2     |   0.0001  |   0.9882  |  0.916   |\n",
      "|   TFIDF    | Logistic Regression |      L1     |    0.01   |   0.9905  |  0.9458  |\n",
      "|   TFIDF    | Logistic Regression |      L2     |   0.0001  |   0.9983  |   0.94   |\n",
      "|  AVG-W2V   | Logistic Regression |      L1     |     1     |   0.8964  |  0.895   |\n",
      "|  AVG-W2V   | Logistic Regression |      L2     |     1     |   0.8964  |  0.8951  |\n",
      "| TFIDF-W2V  | Logistic Regression |      L1     |    0.01   |   0.5115  |  0.7796  |\n",
      "| TFIDF-W2V  | Logistic Regression |      L2     |   0.0001  |   0.5138  |  0.7868  |\n",
      "+------------+---------------------+-------------+-----------+-----------+----------+\n"
     ]
    }
   ],
   "source": [
    "from prettytable import PrettyTable\n",
    "ptable = PrettyTable()\n",
    "\n",
    "vec1 = \"BOW\"\n",
    "vec2 = \"TFIDF\"\n",
    "vec3 = \"AVG-W2V\"\n",
    "vec4 = \"TFIDF-W2V\"\n",
    "\n",
    "reg1= 'L1'\n",
    "reg2='L2'\n",
    "\n",
    "model1 = 'Logistic Regression'\n",
    "\n",
    "\n",
    "ptable.field_names = [\"Vectorizer\",\"Model\",\"Regularizer\",\"Optimal C\",\"Train AUC\",\"Test AUC\"]\n",
    "\n",
    "ptable.add_row([vec1,model1,reg1,optimal_C,0.9763,0.9319])\n",
    "ptable.add_row([vec1,model1,reg2,optimal_C_bow_l2,0.9882,0.9160])\n",
    "ptable.add_row([vec2,model1,reg1,optimal_C_tf_l1,0.9905,0.9458])\n",
    "ptable.add_row([vec2,model1,reg2,optimal_C_tf_l2,0.9983,0.9400])\n",
    "ptable.add_row([vec3,model1,reg1,optimal_C_w2v_l1,0.8964,0.8950])\n",
    "ptable.add_row([vec3,model1,reg2,optimal_C_w2v_l2,0.8964,0.8951])\n",
    "ptable.add_row([vec4,model1,reg1,optimal_C_tfw2v_l1,0.5115,0.7796])\n",
    "ptable.add_row([vec4,model1,reg2,optimal_C_tfw2v_l2,0.5138,0.7868])\n",
    "\n",
    "print(ptable)"
   ]
  },
  {
   "cell_type": "markdown",
   "metadata": {},
   "source": [
    "From above observation, \n",
    "1) TFIDF with L1 and TFIDF with L2 both gives pretty good result.\n",
    "2) The number of non-zero elements of W* is decreasing as we are increasing the value of lambda (C is decreasing). that means more sparsity by increasing lamda(decreasing C)"
   ]
  }
 ],
 "metadata": {
  "kernelspec": {
   "display_name": "Python 3",
   "language": "python",
   "name": "python3"
  },
  "language_info": {
   "codemirror_mode": {
    "name": "ipython",
    "version": 3
   },
   "file_extension": ".py",
   "mimetype": "text/x-python",
   "name": "python",
   "nbconvert_exporter": "python",
   "pygments_lexer": "ipython3",
   "version": "3.6.5"
  }
 },
 "nbformat": 4,
 "nbformat_minor": 2
}
